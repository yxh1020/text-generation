{
  "nbformat": 4,
  "nbformat_minor": 0,
  "metadata": {
    "colab": {
      "name": "word2vec_gensim.ipynb",
      "provenance": [],
      "collapsed_sections": []
    },
    "kernelspec": {
      "name": "python3",
      "display_name": "Python 3"
    }
  },
  "cells": [
    {
      "cell_type": "markdown",
      "metadata": {
        "id": "UndPrQirdZKM",
        "colab_type": "text"
      },
      "source": [
        "# Mounting google drive"
      ]
    },
    {
      "cell_type": "code",
      "metadata": {
        "id": "lzuaSLJNc8Yp",
        "colab_type": "code",
        "colab": {}
      },
      "source": [
        "#pip install --upgrade gensim"
      ],
      "execution_count": 0,
      "outputs": []
    },
    {
      "cell_type": "code",
      "metadata": {
        "id": "vW4FDC7Tdcwu",
        "colab_type": "code",
        "outputId": "d57a98b3-775f-4c8c-bd16-1b29043addc6",
        "colab": {
          "base_uri": "https://localhost:8080/",
          "height": 54
        }
      },
      "source": [
        "from google.colab import drive\n",
        "drive.mount('/content/drive')"
      ],
      "execution_count": 0,
      "outputs": [
        {
          "output_type": "stream",
          "text": [
            "Drive already mounted at /content/drive; to attempt to forcibly remount, call drive.mount(\"/content/drive\", force_remount=True).\n"
          ],
          "name": "stdout"
        }
      ]
    },
    {
      "cell_type": "markdown",
      "metadata": {
        "id": "o4R5DM97dhYl",
        "colab_type": "text"
      },
      "source": [
        "# Load modules"
      ]
    },
    {
      "cell_type": "code",
      "metadata": {
        "id": "CgausXcHdiqn",
        "colab_type": "code",
        "outputId": "5a421a60-39d7-4ab5-9654-c7d0c86257f9",
        "colab": {
          "base_uri": "https://localhost:8080/",
          "height": 67
        }
      },
      "source": [
        "import numpy as np\n",
        "import pandas as pd\n",
        "from sklearn.manifold import TSNE\n",
        "import matplotlib.pyplot as plt\n",
        "import matplotlib.cm as cm\n",
        "\n",
        "from gensim.models import Word2Vec\n",
        "import re\n",
        "import unicodedata\n",
        "from nltk import word_tokenize, sent_tokenize\n",
        "import nltk\n",
        "nltk.download('punkt')"
      ],
      "execution_count": 0,
      "outputs": [
        {
          "output_type": "stream",
          "text": [
            "[nltk_data] Downloading package punkt to /root/nltk_data...\n",
            "[nltk_data]   Package punkt is already up-to-date!\n"
          ],
          "name": "stdout"
        },
        {
          "output_type": "execute_result",
          "data": {
            "text/plain": [
              "True"
            ]
          },
          "metadata": {
            "tags": []
          },
          "execution_count": 3
        }
      ]
    },
    {
      "cell_type": "markdown",
      "metadata": {
        "id": "jmS-PPgSdvPm",
        "colab_type": "text"
      },
      "source": [
        "# Load and explore data"
      ]
    },
    {
      "cell_type": "code",
      "metadata": {
        "id": "Q2OFn5w8dv9m",
        "colab_type": "code",
        "outputId": "13746289-6ad0-4452-ca37-2cd0dfb3f844",
        "colab": {
          "base_uri": "https://localhost:8080/",
          "height": 151
        }
      },
      "source": [
        "df = pd.read_csv('/content/drive/My Drive/Colab Notebooks/Word2Vec /nips.csv')\n",
        "df = df[df['Abstract'] != \"Abstract Missing\"]\n",
        "df = df.reset_index(drop=True)\n",
        "df.info()"
      ],
      "execution_count": 0,
      "outputs": [
        {
          "output_type": "stream",
          "text": [
            "<class 'pandas.core.frame.DataFrame'>\n",
            "RangeIndex: 4933 entries, 0 to 4932\n",
            "Data columns (total 3 columns):\n",
            "Year        4933 non-null int64\n",
            "Title       4933 non-null object\n",
            "Abstract    4933 non-null object\n",
            "dtypes: int64(1), object(2)\n",
            "memory usage: 115.7+ KB\n"
          ],
          "name": "stdout"
        }
      ]
    },
    {
      "cell_type": "code",
      "metadata": {
        "id": "VQunyvT8gG6e",
        "colab_type": "code",
        "outputId": "fd0a821b-cd9d-4dd2-9511-7aa0b6f66d3f",
        "colab": {
          "base_uri": "https://localhost:8080/",
          "height": 118
        }
      },
      "source": [
        "text = df['Abstract']\n",
        "text.head()"
      ],
      "execution_count": 0,
      "outputs": [
        {
          "output_type": "execute_result",
          "data": {
            "text/plain": [
              "0    Up-\u0002propagation is an algorithm for inverting ...\n",
              "1    We have constructed an inexpensive video based...\n",
              "2    Non-negative matrix factorization (NMF) has pr...\n",
              "3    Spike-triggered averaging techniques are effec...\n",
              "4    We consider continuous state, continuous actio...\n",
              "Name: Abstract, dtype: object"
            ]
          },
          "metadata": {
            "tags": []
          },
          "execution_count": 5
        }
      ]
    },
    {
      "cell_type": "code",
      "metadata": {
        "id": "kNik9yJIn8Zv",
        "colab_type": "code",
        "colab": {}
      },
      "source": [
        "def print_text(index, Series):\n",
        "    example = Series[Series.index == index].values[0]\n",
        "    if len(example) > 0:\n",
        "        print(example)\n",
        "    else:\n",
        "      print('Empty!')"
      ],
      "execution_count": 0,
      "outputs": []
    },
    {
      "cell_type": "code",
      "metadata": {
        "id": "8rJsvlVXoAR0",
        "colab_type": "code",
        "outputId": "4dbae911-e1d2-4933-850f-1db28633a749",
        "colab": {
          "base_uri": "https://localhost:8080/",
          "height": 54
        }
      },
      "source": [
        "print_text(1,text)"
      ],
      "execution_count": 0,
      "outputs": [
        {
          "output_type": "stream",
          "text": [
            "We have constructed an inexpensive video based motorized tracking system that learns to track a head. It uses real time graphical user inputs or an auxiliary infrared detector as supervisory signals to train a convolutional neural network. The inputs to the neural network consist of normalized luminance and chrominance images and motion information from frame differences. Subsampled images are also used to provide scale invariance. During the online training phases the neural network rapidly adjusts the input weights depending up on the reliability of the different channels in the surrounding environment. This quick adaptation allows the system to robustly track a head even when other objects are moving within a cluttered background.\n"
          ],
          "name": "stdout"
        }
      ]
    },
    {
      "cell_type": "code",
      "metadata": {
        "id": "PLOn4cU1eMGv",
        "colab_type": "code",
        "outputId": "04cf8d06-c920-4cec-b6dc-0b53d559d79b",
        "colab": {
          "base_uri": "https://localhost:8080/",
          "height": 121
        }
      },
      "source": [
        "corpus_init = ' '.join(list(text))\n",
        "words_init = corpus_init.split()\n",
        "n_words_init = len(words_init)\n",
        "unique_words_init = sorted(list(set(words_init)))\n",
        "n_unique_words_init = len(unique_words_init)\n",
        "print(\"Total number of words before text preprocessing:\", n_words_init)\n",
        "print(\"Total number of unique words before text preprocessing: \", n_unique_words_init)\n",
        "print(unique_words_init[:100])\n",
        "print(unique_words_init[100:200])\n",
        "print(unique_words_init[200:300])"
      ],
      "execution_count": 0,
      "outputs": [
        {
          "output_type": "stream",
          "text": [
            "Total number of words before text preprocessing: 732614\n",
            "Total number of unique words before text preprocessing:  41882\n",
            "['\"', '\"ALBO\"', '\"Air', '\"Air\\'\\'', '\"Answerer', '\"DIRECT\"', '\"DUOL\"', '\"Expansion-Constrained', '\"Generalized', '\"Ghost', '\"Graph', '\"GuessWhat?!\".', '\"Hedge\"', '\"Hey', '\"I', '\"Ising\\'\\'', '\"MNIST', '\"Object', '\"PixelGAN', '\"Self-Expressiveness', '\"Short-Dot\"', '\"TILT\\'\\'', '\"Ugliness-in-Averageness\"', '\"What', '\"additional', '\"anti-Bayesian\"', '\"autotags\")', '\"averagers,\"', '\"batch\"', '\"best', '\"body\\'\\'', '\"body\\'\\',', '\"building', '\"bus', '\"calibration', '\"catalyst\"', '\"chill\"', '\"comparison', '\"condition', '\"context\",', '\"convergence', '\"cooperative', '\"correctness\"', '\"date\"', '\"deep', '\"degrees', '\"deltas\",', '\"denoise\"', '\"describing\"', '\"determinantal', '\"disagreement', '\"disappearance\"', '\"discriminating\"', '\"discriminative', '\"early', '\"edge', '\"efficient\"', '\"em', '\"equalized', '\"exemplars\"', '\"expected', '\"extended', '\"external\"', '\"fair.\"', '\"few-shot\\'\\'', '\"filter', '\"follow-the-perturbed-leader\"', '\"found', '\"functional', '\"generalization', '\"generalized', '\"good\"', '\"graph-valued', '\"grown\"', '\"hard\"', '\"hiding\"', '\"hover', '\"human-like\"', '\"identity', '\"inherent\"', '\"intelligently\",', '\"interaction', '\"internal', '\"internal\"', '\"interrogators\",', '\"isotropic\"', '\"jogging\"', '\"kappa\"', '\"knows', '\"late', '\"latent\\'\\'', '\"latent\\'\\')', '\"learning', '\"local', '\"lucky\"', '\"manifold\"', '\"matching\"', '\"missingness\"', '\"multi-scale\"', '\"naive\"']\n",
            "['\"no\"', '\"none', '\"nonlinearity\"', '\"off-policyness\";', '\"optimal\"', '\"orientation\"', '\"overlapped\\'\\'', '\"partial', '\"patchily\",', '\"persistent', '\"pessimism', '\"pixel\"', '\"plain\"', '\"practice\"', '\"predictive', '\"privacy', '\"random', '\"reduced', '\"regression', '\"rendezvous\"', '\"s\"-sparse', '\"scaled', '\"self-expressiveness\"', '\"self-model\"', '\"shape\"of', '\"shared', '\"signature\"', '\"simple', '\"skeleton\"', '\"small', '\"small\"', '\"smoothed', '\"spectral', '\"standard\"', '\"status', '\"stragglers\"', '\"structured\",', '\"student\"', '\"successor', '\"surprise\",', '\"suspense\",', '\"targeted\"', '\"throw', '\"training', '\"travel\"', '\"trending', '\"two', '\"two-phase\\'\\'', '\"two-player', '\"typical', '\"ultra-slow\"', '\"universal\\'\\'', '\"visual', '\"volume', '\"walk', '\"what', '\"where', '\"world\"', '\"world-model\"', '#101.', '#86', '#P', '#P-hard', '#P-hard,', '#P-hard.', '#example', '$', '$(+\\\\!3,', '$(0,\\\\pi/2]$.', '$(1', '$(1+(1+\\\\epsilon)\\\\gamma)$-approximate', '$(1+O(\\\\psi))$-approximation', '$(1+\\\\alpha)\\\\,L^*_\\\\gamma', '$(1+\\\\eps)$', '$(1+\\\\eps)$-approximation', '$(1+\\\\epsilon)$', '$(1+\\\\epsilon)$-approximation', '$(1+\\\\epsilon)$-factor', '$(1+\\\\epsilon)z$,', '$(1+\\\\varepsilon)$', '$(1-1/\\\\sqrt{\\\\kappa})$', '$(1-1/e)$', '$(1-1/e)-\\\\epsilon$', '$(1-1/e)^2-\\\\delta$', '$(1-\\\\eps)f(S)', '$(1-\\\\epsilon)$-approximation', '$(1-\\\\varepsilon)^{\\\\ell}(1-1/e)$', '$(1/\\\\sqrt{n})$', '$(1/n)$', '$(1\\\\pm\\\\eps)$-coreset.', '$(2+\\\\epsilon)$-approximation', '$(2,', '$(2,1)$-norm', '$(3+o(1))/n^{1/3}$', '$(3,', '$(Christopher,', '$(L', '$(O(\\\\log^{-1}', '$(X_1,', '$(\\\\alpha,']\n",
            "['$(\\\\beta,B)$-Bernstein,', '$(\\\\delta,\\\\rho)$-mode', '$(\\\\delta,\\\\rho)$-modes', '$(\\\\ell,', '$(\\\\ell,\\\\mathcal{F},', '$(\\\\epsilon,', '$(\\\\epsilon,\\\\gamma)$-SOSP.', '$(\\\\epsilon,\\\\gamma)$-second', '$(\\\\frac{\\\\text{OPT}}{2}-\\\\epsilon)$.', '$(\\\\infty,', '$(\\\\varepsilon,', '$(d+1)$-partite', '$(d+1)n$', '$(has\\\\_husband,', '$(i)$', '$(i,j)$', '$(ii)$', '$(iii)$', '$(iv)$', '$(k+1)$-th', '$(k,', '$(m\\\\gg', '$(s,a)$,', '$(x_k)_{k=0}^K$,', '$(x_k)_{k=1}^K$', '$(y_k', '$+$', '$+1$', '$+1/\\\\sqrt{t}$', '$+\\\\!3$', '$-$in', '$-1$', '$-1/\\\\sqrt{t}$', '$0', '$0$', '$0$,', '$0.408', '$1', '$1$', '$1$)', '$1$,', '$1$-bit', '$1$-dimensional', '$1$-norm', '$1$.', '$1)$', '$1+\\\\Omega(\\\\frac{\\\\ln^2', '$1+\\\\epsilon$,', '$1+o(1)$.', '$1,', '$1,\\\\!000\\\\times$', '$1,\\\\infty$', '$1,\\\\infty$-regularized', '$1-1/e$', '$1-\\\\alpha$.', '$1-\\\\alpha_i$', '$1-\\\\delta$', '$1-\\\\delta$,', '$1-\\\\delta$.', '$1-c/e$', '$1-e^{-\\\\Omega(M)}$.', '$1.6\\\\%$', '$1/', '$1/(1-2\\\\eta)$,', '$1/2$', '$1/L$,', '$1/T$', '$1/\\\\alpha$', '$1/\\\\epsilon$', '$1/\\\\epsilon$.', '$1/\\\\sqrt{T}$', '$1/\\\\sqrt{n}$', '$1/\\\\sqrt{t}$', '$1/k$.', '$1/n^{\\\\gamma/c}$', '$1/p+1/p^{*}=1$,', '$1/t^2$', '$10$', '$10$.', '$10-20\\\\%$', '$100,\\\\!000$s', '$10\\\\times', '$10^4$.', '$10^8$.', '$10^{-12}$', '$10^{-3}$', '$10^{-6}$', '$10^{64}$', '$10^{70}$', '$11\\\\%$', '$121', '$13\\\\%$.', '$14', '$14\\\\%$', '$14\\\\epsilon', '$160', '$1\\\\le', '$1\\\\leq', '$2', '$2$.']\n"
          ],
          "name": "stdout"
        }
      ]
    },
    {
      "cell_type": "markdown",
      "metadata": {
        "id": "rpq1MvqNeW9n",
        "colab_type": "text"
      },
      "source": [
        "# Text Preprocessing"
      ]
    },
    {
      "cell_type": "code",
      "metadata": {
        "id": "RR8BW49heX5I",
        "colab_type": "code",
        "colab": {}
      },
      "source": [
        "def remove_non_ascii(words):\n",
        "    \"\"\"Remove non-ASCII characters from list of tokenized words\"\"\"\n",
        "    new_words = []\n",
        "    for word in words:\n",
        "        if word != ',' or word != '.':\n",
        "          new_word = unicodedata.normalize('NFKD', word).encode('ascii', 'ignore').decode('utf-8', 'ignore')\n",
        "          new_words.append(new_word)\n",
        "    return new_words"
      ],
      "execution_count": 0,
      "outputs": []
    },
    {
      "cell_type": "code",
      "metadata": {
        "id": "Ra0v5pRzenJJ",
        "colab_type": "code",
        "colab": {}
      },
      "source": [
        "def clean_text(text):\n",
        "  # noise removal\n",
        "  text = re.sub(r'\\bhttps?://\\w+.+[^ ]\\b', 'link', text) #replace url with \"link\"\n",
        "  text = re.sub(r'[a-zA-Z0-9]*\\.?github\\.?[a-zA-Z0-9]*','github',text) #replace github links with \"github\"\n",
        "  text = re.sub(r'\\~\\\\cite\\{[^}]*\\}','',text) # remove cite in the format of \"~\\cite{DeSaOR16}\"\n",
        "  text = re.sub(r'\\[[^]]*\\]', '', text) # remove between square brackets\n",
        "  text = re.sub(r'\\([^)]*\\)', '', text) # remove between parentheses\n",
        "  text = re.sub(r'\\{[^)]*\\}', '', text) # remove between curly brackets\n",
        "  \n",
        "  # normalization\n",
        "  text = text.lower() # convert to lowercase text\n",
        "  \n",
        "  text = re.sub(r'\\-',' ', text) # seperate words like 'video-related'\n",
        "  text = re.sub(r'[^a-zA-Z0-9\\s\\.\\,]', '', text) # remove punctuation \n",
        "  \n",
        "  text = re.sub(r'i\\.?e\\.?', ' ie ' , text) # replace 'i.e.' \n",
        "  text = re.sub(r'e\\.?g\\.?',' eg ', text)# replace 'i.e.' \n",
        "  text = re.sub(r'i\\.?i\\.?d\\.?',' independent identically distributed ',text) #replace 'i.i.d.' or 'i.i.d'\n",
        "  text = re.sub(r'd\\.?c\\.?',' dc ',text) #replace 'd.c.'\n",
        "  text = re.sub(r'et\\.?[ \\t\\n\\r\\f\\v]*al[ \\t\\n\\r\\f\\v]?\\.?', ' et al', text) # replace \"et. al.\" with \"et al\"\n",
        "  text = re.sub(r'w\\.?r\\.?t\\.?', ' wrt', text)\n",
        "  text = re.sub(r'a\\.?k\\.?a\\.?', ' aka ', text)\n",
        "  text = re.sub(r'u\\.?s\\.?',' us', text)\n",
        "  text = re.sub(r'd\\.?s\\.?',' ds', text)\n",
        "  text = re.sub(r'a\\.?s\\.?',' as', text)\n",
        "  text = re.sub(r'v\\.?s\\.?',' vs', text)\n",
        "  text = re.sub(r'r\\.?v\\.?',' rv', text)\n",
        "  text = re.sub(r'c\\.?n\\.?',' cn', text)\n",
        "  text = re.sub(r'w\\.h\\.p\\.', ' ', text)\n",
        "  \n",
        "  text = re.sub(r'[-+]?\\d*\\.?\\d+', 'NUMBER', text) # replace numbers with \"NUMBER\"\n",
        "  \n",
        "  text = re.sub(r'\\.{2,}', '', text) # remove '..','...'\n",
        "  text = re.sub(r'\\.', ' . ', text) # seperate '.' from text\n",
        "  text = re.sub(r'\\,' , ' , ', text) # seperate ',' from text\n",
        " \n",
        "  text = ' '.join(remove_non_ascii(text.split())) # remove non-ascii words\n",
        "  text = re.sub(r'[\\w]*NUMBER[\\w]*', 'NUMBER', text) # replace anyword containing \"NUMBER\" with \"NUMBER\"\n",
        "  \n",
        "  return text"
      ],
      "execution_count": 0,
      "outputs": []
    },
    {
      "cell_type": "code",
      "metadata": {
        "id": "CAHoz2tngUXd",
        "colab_type": "code",
        "colab": {}
      },
      "source": [
        "text = text.apply(clean_text)"
      ],
      "execution_count": 0,
      "outputs": []
    },
    {
      "cell_type": "code",
      "metadata": {
        "id": "gnFd0E0LerQI",
        "colab_type": "code",
        "outputId": "dcf991eb-70d5-4f4b-b5c3-ab5701f23aca",
        "colab": {
          "base_uri": "https://localhost:8080/",
          "height": 154
        }
      },
      "source": [
        "text_list = list(text)\n",
        "corpus = ' '.join(text_list)\n",
        "words = corpus.split()\n",
        "n_words = len(words)\n",
        "unique_words = sorted(list(set(words)))\n",
        "n_unique_words = len(unique_words)\n",
        "print(\"Total number of words:\", n_words)\n",
        "print(\"Total number of unique words: \", n_unique_words)\n",
        "print(unique_words[:100])\n",
        "print(unique_words[100:200])\n",
        "print(unique_words[200:300])\n",
        "print(unique_words[300:400])\n",
        "print(unique_words[400:500])"
      ],
      "execution_count": 0,
      "outputs": [
        {
          "output_type": "stream",
          "text": [
            "Total number of words: 847564\n",
            "Total number of unique words:  15059\n",
            "[',', '.', 'NUMBER', 'a', 'aa', 'aaai', 'aalen', 'aaronson', 'ab', 'abandons', 'abbe', 'abc', 'abdominal', 'aberrant', 'abf', 'abilit', 'ability', 'abilityto', 'ablation', 'able', 'ables', 'abn', 'abnormal', 'abnormalit', 'abnormality', 'aboun', 'abound', 'about', 'above', 'abovethreshold', 'abp', 'abrupt', 'abscissa', 'absence', 'absent', 'absolute', 'absolutely', 'absorb', 'absorbed', 'absorbing', 'absorption', 'abstain', 'abstaining', 'abstention', 'abstract', 'abstracted', 'abstraction', 'abstractions', 'abstractionthe', 'abstractive', 'abstracts', 'abundance', 'abundancy', 'abundant', 'ac', 'academic', 'academics', 'accelerate', 'accelerated', 'accelerates', 'accelerating', 'acceleration', 'accelerators', 'accelerometers', 'accentuated', 'accept', 'acceptability', 'acceptable', 'acceptably', 'acceptance', 'accepted', 'accepts', 'access', 'accessed', 'accesses', 'accessibility', 'accessible', 'accessing', 'accident', 'accidental', 'accidents', 'acclaimed', 'accommodate', 'accommodated', 'accommodates', 'accomodate', 'accompan', 'accompany', 'accompanying', 'accomplish', 'accomplished', 'accomplishes', 'accomplishing', 'accord', 'accordance', 'according', 'accordingly', 'account', 'accountable', 'accounted']\n",
            "['accounting', 'accounts', 'accp', 'accross', 'accumulate', 'accumulated', 'accumulating', 'accumulation', 'accumulations', 'accumulator', 'accumulators', 'accurac', 'accuracy', 'accurate', 'accurately', 'acdm', 'ace', 'acetylcholine', 'ach', 'achromatic', 'aci', 'acid', 'acknowledge', 'acknowledged', 'acknowledges', 'aco', 'acquire', 'acquired', 'acquires', 'acquiring', 'acquisition', 'acquisitions', 'acronym', 'across', 'acrossa', 'acrossdat', 'acs', 'act', 'acted', 'acterization', 'acting', 'action', 'actionable', 'actiongesture', 'actions', 'actionspolic', 'activate', 'activated', 'activates', 'activating', 'activation', 'activations', 'active', 'actively', 'activit', 'activity', 'actor', 'actors', 'acts', 'actual', 'actually', 'actuated', 'actuation', 'acute', 'acutely', 'acy', 'acyclic', 'acyclicity', 'ad', 'ada', 'adaboost', 'adadelta', 'adagan', 'adagrad', 'adam', 'adams', 'adamsmoulton', 'adap', 'adapt', 'adaptability', 'adaptation', 'adaptations', 'adapted', 'adapter', 'adapting', 'adaption', 'adaptive', 'adaptively', 'adaptiveness', 'adaptiverevision', 'adaptivity', 'adaptor', 'adapts', 'add', 'added', 'adding', 'addition', 'additional', 'additionally', 'additions']\n",
            "['additive', 'additivity', 'address', 'addressed', 'addresses', 'addressing', 'ade', 'adept', 'adequacy', 'adequate', 'adequately', 'ader', 'adheres', 'adhering', 'adj', 'adjacency', 'adjacent', 'adm', 'administered', 'admira', 'admissibility', 'admissible', 'admission', 'admissions', 'admit', 'admits', 'admitting', 'admixture', 'admixtures', 'admm', 'adni', 'ado', 'adolescent', 'adopt', 'adopted', 'adopting', 'adoption', 'adopts', 'adp', 'adpp', 'adress', 'adresses', 'adults', 'advance', 'advanced', 'advancement', 'advancements', 'advances', 'advancing', 'advantage', 'advantageo', 'advantages', 'advent', 'adversar', 'adversarial', 'adversarially', 'adversarialparseval', 'adversary', 'adversarys', 'adverse', 'adversely', 'advertise', 'advertisement', 'advertisements', 'advertiser', 'advertisers', 'advertising', 'advi', 'advice', 'advise', 'advised', 'advocate', 'advocated', 'adwor', 'aen', 'aer', 'aerial', 'aesthetic', 'aesthetically', 'aesthetics', 'afd', 'affairs', 'affect', 'affected', 'affecting', 'affects', 'afferent', 'afferents', 'affiliation', 'affine', 'affinit', 'affinity', 'affirm', 'affirmation', 'affirmative', 'affirmatively', 'affor', 'afford', 'affordable', 'afforded']\n",
            "['affording', 'afhmm', 'aforementioned', 'aforesaid', 'african', 'after', 'aftereffects', 'aftern', 'afterwar', 'ag', 'again', 'against', 'age', 'agency', 'agend', 'agenda', 'agent', 'agents', 'agentsmachinescomputers', 'agglomerate', 'agglomeration', 'agglomerations', 'agglomerative', 'aggr', 'aggressive', 'aggressively', 'agiven', 'agm', 'agnos', 'agnostic', 'agnostically', 'agnostophobia', 'ago', 'agorithm', 'agree', 'agreement', 'agrees', 'ags', 'ahban', 'ahead', 'ahp', 'ahundred', 'ai', 'aic', 'aid', 'aide', 'aided', 'aiding', 'aim', 'aimathbf', 'aimed', 'aiming', 'aiml', 'aims', 'ained', 'aining', 'air', 'airborne', 'aircraft', 'airflow', 'airline', 'ais', 'ait', 'ak', 'aka', 'akin', 'al', 'aland', 'alarm', 'alarmingly', 'alarms', 'albeit', 'albinding', 'albo', 'album', 'alcohol', 'aldo', 'ale', 'alearning', 'aleatoric', 'alert', 'alexanders', 'alexnet', 'algebra', 'algebraic', 'algebraically', 'algo', 'algoirthm', 'algorithm', 'algorithmcalled', 'algorithmic', 'algorithmically', 'algorithms', 'algorithmsa', 'algorithmshave', 'algorithmthat', 'ali', 'alice', 'aligment', 'align']\n",
            "['aligned', 'aligning', 'alignment', 'alignments', 'aligns', 'alike', 'alion', 'alization', 'alkeypoints', 'all', 'allay', 'allen', 'alleviate', 'alleviated', 'alleviates', 'alleviating', 'alligan', 'alligned', 'allocate', 'allocated', 'allocates', 'allocating', 'allocation', 'allocations', 'alloproteins', 'allow', 'allowable', 'allowed', 'allowing', 'allows', 'allowsnatural', 'allowssubset', 'alloy', 'allreduce', 'almost', 'alone', 'along', 'alongside', 'aloocv', 'aloxide', 'alp', 'alpaca', 'alpha', 'alphabet', 'alphabets', 'alphacsc', 'alphago', 'alphai', 'alphain', 'alphanumeric', 'alphawidetildevarepsilon', 'already', 'als', 'also', 'alswck', 'alsystems', 'alter', 'alteration', 'alterations', 'altered', 'altering', 'alternate', 'alternated', 'alternately', 'alternates', 'alternating', 'alternatinglinearization', 'alternation', 'alternations', 'alternative', 'alternatively', 'alternatives', 'altest', 'although', 'altitude', 'altogether', 'always', 'alzheimer', 'alzheimers', 'am', 'amalgamates', 'amazing', 'amazon', 'amb', 'ambiguit', 'ambiguity', 'ambiguo', 'ambitio', 'amenability', 'amenable', 'amend', 'amendable', 'amended', 'american', 'amini', 'amino', 'ammar', 'amoebe', 'among', 'amongst']\n"
          ],
          "name": "stdout"
        }
      ]
    },
    {
      "cell_type": "code",
      "metadata": {
        "id": "-Me4UJ1UgOAr",
        "colab_type": "code",
        "outputId": "2449810f-f591-4a80-9b28-257bea9d6b0c",
        "colab": {
          "base_uri": "https://localhost:8080/",
          "height": 171
        }
      },
      "source": [
        "sent_text = sent_tokenize(corpus)\n",
        "sent_text[20010:20018]"
      ],
      "execution_count": 0,
      "outputs": [
        {
          "output_type": "execute_result",
          "data": {
            "text/plain": [
              "['recent work h as highlighted the power law propert ie s of brain signals however , there remains a lack of metho ds to specifically quantify short vs long time range brain connections .',\n",
              " 'in this paper , using detrended partial cross correlation analysis , we propose a novel functional connectivity me asure to delineate brain interactions at multiple time scales , while controlling for covariates .',\n",
              " 'we use a rich simulated fmri dat aset to validate the proposed method , and apply it to a real fmri dat aset in a cocaine dependence prediction t ask .',\n",
              " 'we show that , compared to extant metho ds , the dpcca b ased approach not only distinguishes short and long memory functional connectivity but also improves feature extraction and enhances cl assification accuracy .',\n",
              " 'together , this paper contributes broadly to new computational methodolog ie s in understanding neural information processing .',\n",
              " 'image captioning , a popular topic in computer vision , h as ach ie ved substantial progress in recent years .',\n",
              " 'however , the distinctiveness of natural descriptions is often overlooked in previo us work .',\n",
              " 'it is closely related to the quality of captions , as distinctive captions are more likely to describe images with their unique aspects .']"
            ]
          },
          "metadata": {
            "tags": []
          },
          "execution_count": 13
        }
      ]
    },
    {
      "cell_type": "code",
      "metadata": {
        "id": "A9b8Ze_RjvGo",
        "colab_type": "code",
        "outputId": "fcabcb58-661e-41c6-8384-efd9f1fa7e7a",
        "colab": {
          "base_uri": "https://localhost:8080/",
          "height": 104
        }
      },
      "source": [
        "sentences = [] # list of lists\n",
        "max_sent_length = 0\n",
        "min_sent_length = float('Inf')\n",
        "for sent in sent_text:\n",
        "  sent_words = word_tokenize(sent)\n",
        "    \n",
        "  n_words = len(sent_words)\n",
        "  \n",
        "  # remove sentences with less than or equal to 3 words\n",
        "  if n_words > 3:\n",
        "    sentences.append(sent_words)\n",
        "    if max_sent_length < n_words:\n",
        "       max_sent_length = n_words\n",
        "    if min_sent_length > n_words:\n",
        "       min_sent_length = n_words\n",
        "\n",
        "n_sentences = len(sentences)\n",
        "\n",
        "print(\"Total number of sentences: \", n_sentences)\n",
        "print(\"Maximum length of sentences: \", max_sent_length)\n",
        "print(\"Minimus length of sentences: \",min_sent_length)\n",
        "print(sentences[:5])"
      ],
      "execution_count": 0,
      "outputs": [
        {
          "output_type": "stream",
          "text": [
            "Total number of sentences:  29972\n",
            "Maximum length of sentences:  149\n",
            "Minimus length of sentences:  4\n",
            "[['up', 'propagation', 'is', 'an', 'algorithm', 'for', 'inverting', 'and', 'learning', 'neural', 'network', 'generative', 'models', 'sensory', 'input', 'is', 'processed', 'by', 'inverting', 'a', 'model', 'that', 'generates', 'patterns', 'from', 'hidden', 'variables', 'using', 'topdown', 'connections', 'the', 'inversion', 'process', 'is', 'iterative', 'utilizing', 'a', 'n', 'eg', 'ative', 'feedback', 'loop', 'that', 'depen', 'ds', 'on', 'an', 'error', 'signal', 'propagated', 'by', 'bottomup', 'connections', 'the', 'error', 'signal', 'is', 'also', 'used', 'to', 'learn', 'the', 'generative', 'model', 'from', 'examples', 'the', 'algorithm', 'is', 'benchmarked', 'against', 'principal', 'component', 'analysis', 'in', 'experiments', 'on', 'images', 'of', 'handwritten', 'digits', '.'], ['we', 'have', 'constructed', 'an', 'inexpensive', 'video', 'b', 'ased', 'motorized', 'tracking', 'system', 'that', 'learns', 'to', 'track', 'a', 'head', '.'], ['it', 'uses', 'real', 'time', 'graphical', 'user', 'inputs', 'or', 'an', 'auxiliary', 'infrared', 'detector', 'as', 'supe', 'rvisory', 'signals', 'to', 'train', 'a', 'convolutional', 'neural', 'network', '.'], ['the', 'inputs', 'to', 'the', 'neural', 'network', 'consist', 'of', 'normalized', 'luminance', 'and', 'chrominance', 'images', 'and', 'motion', 'information', 'from', 'frame', 'differences', '.'], ['subsampled', 'images', 'are', 'also', 'used', 'to', 'provide', 'scale', 'invariance', '.']]\n"
          ],
          "name": "stdout"
        }
      ]
    },
    {
      "cell_type": "code",
      "metadata": {
        "id": "Eqk1B1vwt5o0",
        "colab_type": "code",
        "colab": {}
      },
      "source": [
        "# for i, sent in enumerate(sentences):\n",
        "#   if len(sent) <= 3:\n",
        "#     print(i, sent)"
      ],
      "execution_count": 0,
      "outputs": []
    },
    {
      "cell_type": "markdown",
      "metadata": {
        "id": "O5nyVdO6BPXz",
        "colab_type": "text"
      },
      "source": [
        "# Genism word2vec Modeling"
      ]
    },
    {
      "cell_type": "markdown",
      "metadata": {
        "id": "0qajJstvHlL4",
        "colab_type": "text"
      },
      "source": [
        "# Training"
      ]
    },
    {
      "cell_type": "code",
      "metadata": {
        "id": "mH8YiTpXu4bO",
        "colab_type": "code",
        "colab": {}
      },
      "source": [
        "model = Word2Vec(sentences, \n",
        "                 min_count = 5, \n",
        "                 size= 512, # number of dimensions of the embedding\n",
        "                 workers = 3, \n",
        "                 window = 5, \n",
        "                 sg = 1) # CBOW (0), skip gram (1)"
      ],
      "execution_count": 0,
      "outputs": []
    },
    {
      "cell_type": "markdown",
      "metadata": {
        "id": "pgAMfVA5Ho_K",
        "colab_type": "text"
      },
      "source": [
        "## Evaluation"
      ]
    },
    {
      "cell_type": "code",
      "metadata": {
        "id": "d-n8cVGtCiS0",
        "colab_type": "code",
        "outputId": "7e26a532-3275-4fe6-c8d0-41cf94229f2b",
        "colab": {
          "base_uri": "https://localhost:8080/",
          "height": 34
        }
      },
      "source": [
        "# Model\n",
        "print(model)"
      ],
      "execution_count": 0,
      "outputs": [
        {
          "output_type": "stream",
          "text": [
            "Word2Vec(vocab=5980, size=512, alpha=0.025)\n"
          ],
          "name": "stdout"
        }
      ]
    },
    {
      "cell_type": "code",
      "metadata": {
        "id": "i7FP3167DtD4",
        "colab_type": "code",
        "outputId": "2f965dae-8830-4eb5-c9cf-8321afd539dc",
        "colab": {
          "base_uri": "https://localhost:8080/",
          "height": 50
        }
      },
      "source": [
        "# Vocabulary\n",
        "words = list(model.wv.vocab)\n",
        "print(words[:10])\n",
        "print(words[10:20])"
      ],
      "execution_count": 0,
      "outputs": [
        {
          "output_type": "stream",
          "text": [
            "['up', 'propagation', 'is', 'an', 'algorithm', 'for', 'inverting', 'and', 'learning', 'neural']\n",
            "['network', 'generative', 'models', 'sensory', 'input', 'processed', 'by', 'a', 'model', 'that']\n"
          ],
          "name": "stdout"
        }
      ]
    },
    {
      "cell_type": "code",
      "metadata": {
        "id": "0QXSVn5MU0lv",
        "colab_type": "code",
        "outputId": "96111e95-e64c-4f3d-aa00-3988afca859d",
        "colab": {
          "base_uri": "https://localhost:8080/",
          "height": 154
        }
      },
      "source": [
        "model.wv.most_similar('neural', topn=5)"
      ],
      "execution_count": 0,
      "outputs": [
        {
          "output_type": "stream",
          "text": [
            "/usr/local/lib/python3.6/dist-packages/gensim/matutils.py:737: FutureWarning: Conversion of the second argument of issubdtype from `int` to `np.signedinteger` is deprecated. In future, it will be treated as `np.int64 == np.dtype(int).type`.\n",
            "  if np.issubdtype(vec.dtype, np.int):\n"
          ],
          "name": "stderr"
        },
        {
          "output_type": "execute_result",
          "data": {
            "text/plain": [
              "[('recurrent', 0.7344039082527161),\n",
              " ('convolutional', 0.675775945186615),\n",
              " ('cnns', 0.6747896671295166),\n",
              " ('neuronal', 0.6554031372070312),\n",
              " ('feedforward', 0.6524607539176941)]"
            ]
          },
          "metadata": {
            "tags": []
          },
          "execution_count": 19
        }
      ]
    },
    {
      "cell_type": "markdown",
      "metadata": {
        "id": "bD0DpgytEJf3",
        "colab_type": "text"
      },
      "source": [
        "# Visualizations"
      ]
    },
    {
      "cell_type": "code",
      "metadata": {
        "id": "yVS1fZUPEKrv",
        "colab_type": "code",
        "colab": {}
      },
      "source": [
        "# Select words for visualizations\n",
        "words_select = ['up', 'propagation', 'algorithm', 'neural']\n",
        "\n",
        "#Create similar words vectors\n",
        "def similar_words_embeddings(words):\n",
        "  embedding_clusters = []\n",
        "  word_clusters = []\n",
        "  for word in words:\n",
        "      embeddings_similar = []\n",
        "      words_similar = []\n",
        "      for similar_word, _ in model.wv.most_similar(word, topn=30):\n",
        "          words_similar.append(similar_word)\n",
        "          embeddings_similar.append(model[similar_word])\n",
        "      embedding_clusters.append(embeddings_similar)\n",
        "      word_clusters.append(words_similar)\n",
        "  return embedding_clusters, word_clusters\n",
        "\n",
        "embedding_clusters, word_clusters = similar_words_embeddings(words_select)"
      ],
      "execution_count": 0,
      "outputs": []
    },
    {
      "cell_type": "code",
      "metadata": {
        "id": "pU65IcDFarRa",
        "colab_type": "code",
        "colab": {}
      },
      "source": [
        "# t-SNE\n",
        "embedding_clusters = np.array(embedding_clusters)\n",
        "n, m, k = embedding_clusters.shape\n",
        "tsne_model_2d = TSNE(perplexity=15, n_components=2, init='pca', n_iter=3500, random_state=10)\n",
        "embeddings_2d = np.array(tsne_model_2d.fit_transform(embedding_clusters.reshape(n * m, k))).reshape(n, m, 2)"
      ],
      "execution_count": 0,
      "outputs": []
    },
    {
      "cell_type": "code",
      "metadata": {
        "id": "J-jiY7Tha3RY",
        "colab_type": "code",
        "outputId": "5bd3efe6-5963-4ca2-c94b-87a0f3b4d35d",
        "colab": {
          "base_uri": "https://localhost:8080/",
          "height": 553
        }
      },
      "source": [
        "# Plot\n",
        "def tsne_plot_similar_words(title, labels, embedding_clusters, word_clusters, a):\n",
        "    plt.figure(figsize=(16, 9))\n",
        "    colors = cm.rainbow(np.linspace(0, 1, len(labels)))\n",
        "    for label, embeddings, words, color in zip(labels, embedding_clusters, word_clusters, colors):\n",
        "        x = embeddings[:, 0]\n",
        "        y = embeddings[:, 1]\n",
        "        plt.scatter(x, y, alpha=a, label=label)\n",
        "        for i, word in enumerate(words):\n",
        "            plt.annotate(word, alpha=0.5, xy=(x[i], y[i]), xytext=(5, 2),\n",
        "                         textcoords='offset points', ha='right', va='bottom', size=8)\n",
        "    plt.legend(loc=4)\n",
        "    plt.title(title)\n",
        "    plt.grid(True)\n",
        "    plt.show()\n",
        "\n",
        "tsne_plot_similar_words('Similar words', words_select, embeddings_2d, word_clusters, 0.7,)"
      ],
      "execution_count": 0,
      "outputs": [
        {
          "output_type": "display_data",
          "data": {
            "image/png": "[encoded data removed]",
            "text/plain": [
              "<Figure size 1152x648 with 1 Axes>"
            ]
          },
          "metadata": {
            "tags": []
          }
        }
      ]
    },
    {
      "cell_type": "markdown",
      "metadata": {
        "id": "IQ64JVW6G1tf",
        "colab_type": "text"
      },
      "source": [
        "# Save word embeddings"
      ]
    },
    {
      "cell_type": "code",
      "metadata": {
        "id": "nKtyKqQ9G6pG",
        "colab_type": "code",
        "colab": {}
      },
      "source": [
        "# save model\n",
        "#model.save('model.bin') #binary format"
      ],
      "execution_count": 0,
      "outputs": []
    }
  ]
}