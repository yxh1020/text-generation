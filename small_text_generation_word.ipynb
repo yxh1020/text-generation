{
  "nbformat": 4,
  "nbformat_minor": 0,
  "metadata": {
    "colab": {
      "name": "small-text-generation-word.ipynb",
      "provenance": [],
      "collapsed_sections": [],
      "machine_shape": "hm"
    },
    "kernelspec": {
      "name": "python3",
      "display_name": "Python 3"
    },
    "accelerator": "GPU"
  },
  "cells": [
    {
      "cell_type": "markdown",
      "metadata": {
        "id": "HTbJqGFwbrjR",
        "colab_type": "text"
      },
      "source": [
        "# Mounting google drive"
      ]
    },
    {
      "cell_type": "code",
      "metadata": {
        "id": "lhHxl4ivpe6L",
        "colab_type": "code",
        "colab": {}
      },
      "source": [
        "#!pip install tensorflow--gpu==2.0.0-alpha0"
      ],
      "execution_count": 0,
      "outputs": []
    },
    {
      "cell_type": "code",
      "metadata": {
        "id": "qjwnv_eEbhpz",
        "colab_type": "code",
        "outputId": "229c1890-8d3a-4e90-d06d-9e4103e153f3",
        "colab": {
          "base_uri": "https://localhost:8080/",
          "height": 54
        }
      },
      "source": [
        "from google.colab import drive\n",
        "drive.mount('/content/drive')"
      ],
      "execution_count": 5,
      "outputs": [
        {
          "output_type": "stream",
          "text": [
            "Drive already mounted at /content/drive; to attempt to forcibly remount, call drive.mount(\"/content/drive\", force_remount=True).\n"
          ],
          "name": "stdout"
        }
      ]
    },
    {
      "cell_type": "markdown",
      "metadata": {
        "id": "CtzEwxVRcxUk",
        "colab_type": "text"
      },
      "source": [
        "# Load modules"
      ]
    },
    {
      "cell_type": "code",
      "metadata": {
        "id": "TiUyYUWdcw9u",
        "colab_type": "code",
        "outputId": "bf032f59-6293-46aa-ae36-ce298d819b7d",
        "colab": {
          "base_uri": "https://localhost:8080/",
          "height": 34
        }
      },
      "source": [
        "from __future__ import print_function, unicode_literals\n",
        "\n",
        "import numpy as np\n",
        "import pandas as pd\n",
        "import matplotlib.pyplot as plt\n",
        "\n",
        "import re\n",
        "import nltk\n",
        "import unicodedata\n",
        "\n",
        "import tensorflow as tf\n",
        "from tensorflow.keras.utils import plot_model, to_categorical\n",
        "from tensorflow.keras.preprocessing.text import Tokenizer\n",
        "from tensorflow.keras.models import Sequential\n",
        "from tensorflow.keras.layers import Dense\n",
        "from tensorflow.keras.layers import Dropout\n",
        "from tensorflow.keras.layers import LSTM, Bidirectional\n",
        "from tensorflow.keras.layers import Embedding\n",
        "from tensorflow.keras.callbacks import ModelCheckpoint\n",
        "from tensorflow.keras.callbacks import EarlyStopping\n",
        "from tensorflow.keras import backend\n",
        "\n",
        "print(tf.__version__)"
      ],
      "execution_count": 6,
      "outputs": [
        {
          "output_type": "stream",
          "text": [
            "2.0.0-alpha0\n"
          ],
          "name": "stdout"
        }
      ]
    },
    {
      "cell_type": "markdown",
      "metadata": {
        "id": "KTCMZpr7cAga",
        "colab_type": "text"
      },
      "source": [
        "# Load and explore data"
      ]
    },
    {
      "cell_type": "code",
      "metadata": {
        "id": "Z9DMvOFRbvhL",
        "colab_type": "code",
        "outputId": "26965385-f5f8-48d1-d7d1-460b0635ade1",
        "colab": {
          "base_uri": "https://localhost:8080/",
          "height": 151
        }
      },
      "source": [
        "df = pd.read_csv('/content/drive/My Drive/Colab Notebooks/text-generation/text-generation-word/nips.csv')\n",
        "df = df[df['Abstract'] != \"Abstract Missing\"]\n",
        "df = df.reset_index(drop=True)\n",
        "df.info()"
      ],
      "execution_count": 7,
      "outputs": [
        {
          "output_type": "stream",
          "text": [
            "<class 'pandas.core.frame.DataFrame'>\n",
            "RangeIndex: 4933 entries, 0 to 4932\n",
            "Data columns (total 3 columns):\n",
            "Year        4933 non-null int64\n",
            "Title       4933 non-null object\n",
            "Abstract    4933 non-null object\n",
            "dtypes: int64(1), object(2)\n",
            "memory usage: 115.7+ KB\n"
          ],
          "name": "stdout"
        }
      ]
    },
    {
      "cell_type": "code",
      "metadata": {
        "id": "jrmLuvAExrV-",
        "colab_type": "code",
        "outputId": "24c46170-4306-4e38-b26a-96d1f3f71b57",
        "colab": {
          "base_uri": "https://localhost:8080/",
          "height": 151
        }
      },
      "source": [
        "# Select a small dataset\n",
        "df_small = df.iloc[:1500]\n",
        "df_small.info()"
      ],
      "execution_count": 8,
      "outputs": [
        {
          "output_type": "stream",
          "text": [
            "<class 'pandas.core.frame.DataFrame'>\n",
            "RangeIndex: 1500 entries, 0 to 1499\n",
            "Data columns (total 3 columns):\n",
            "Year        1500 non-null int64\n",
            "Title       1500 non-null object\n",
            "Abstract    1500 non-null object\n",
            "dtypes: int64(1), object(2)\n",
            "memory usage: 35.3+ KB\n"
          ],
          "name": "stdout"
        }
      ]
    },
    {
      "cell_type": "code",
      "metadata": {
        "id": "nwOrFDY0CpQF",
        "colab_type": "code",
        "outputId": "50e036d0-5db3-4fbc-a5ba-46c5a0e30843",
        "colab": {
          "base_uri": "https://localhost:8080/",
          "height": 118
        }
      },
      "source": [
        "text = df_small['Abstract']\n",
        "text.head()"
      ],
      "execution_count": 9,
      "outputs": [
        {
          "output_type": "execute_result",
          "data": {
            "text/plain": [
              "0    Up-\u0002propagation is an algorithm for inverting ...\n",
              "1    We have constructed an inexpensive video based...\n",
              "2    Non-negative matrix factorization (NMF) has pr...\n",
              "3    Spike-triggered averaging techniques are effec...\n",
              "4    We consider continuous state, continuous actio...\n",
              "Name: Abstract, dtype: object"
            ]
          },
          "metadata": {
            "tags": []
          },
          "execution_count": 9
        }
      ]
    },
    {
      "cell_type": "code",
      "metadata": {
        "id": "hVYcaJm_cvJd",
        "colab_type": "code",
        "colab": {}
      },
      "source": [
        "def print_text(index, Series):\n",
        "    example = Series[Series.index == index].values[0]\n",
        "    if len(example) > 0:\n",
        "        print(example)\n",
        "    else:\n",
        "      print('Empty!')"
      ],
      "execution_count": 0,
      "outputs": []
    },
    {
      "cell_type": "code",
      "metadata": {
        "id": "RT2SHfaBxbOt",
        "colab_type": "code",
        "outputId": "d431a1ad-5f98-473b-b941-5e4d8e8b7544",
        "colab": {
          "base_uri": "https://localhost:8080/",
          "height": 205
        }
      },
      "source": [
        "print_text(0,text)\n",
        "print_text(10,text)\n",
        "print_text(20, text)"
      ],
      "execution_count": 11,
      "outputs": [
        {
          "output_type": "stream",
          "text": [
            "Up-\u0002propagation is an algorithm for inverting and learning neural network\r\n",
            "generative models\u0003 Sensory input is processed by inverting a model that\r\n",
            "generates patterns from hidden variables using top\u0002down connections\u0003\r\n",
            "The inversion process is iterative\u0004 utilizing a negative feedback loop that\r\n",
            "depends on an error signal propagated by bottom\u0002up connections\u0003 The\r\n",
            "error signal is also used to learn the generative model from examples\u0003\r\n",
            "The algorithm is benchmarked against principal component analysis in\r\n",
            "experiments on images of handwritten digits\u0003.\n",
            "Computational models of visual cortex, and in particular those based on sparse coding, have enjoyed much recent attention. Despite this currency, the question of how sparse or how over-complete a sparse representation should be, has gone without principled answer. Here, we use Bayesian model-selection methods to address these questions for a sparse-coding model based on a Student-t prior. Having validated our methods on toy data, we find that natural images are indeed best modelled by extremely sparse distributions; although for the Student-t prior, the associated optimal basis size is only modestly overcomplete.\n",
            "Under natural viewing conditions, human observers shift their gaze to allocate processing resources to subsets of the visual input. Many computational models have aimed at predicting such voluntary attentional shifts. Although the importance of high level stimulus properties (higher order statistics, semantics) stands undisputed, most models are based on low-level features of the input alone. In this study we recorded eye-movements of human observers while they viewed photographs of natural scenes. About two thirds of the stimuli contained at least one person. We demonstrate that a combined model of face detection and low-level saliency clearly outperforms a low-level model in predicting locations humans fixate. This is reflected in our finding fact that observes, even when not instructed to look for anything particular, fixate on a face with a probability of over 80% within their first two fixations (500ms). Remarkably, the model's predictive performance in images that do not contain faces is not impaired by spurious face detector responses, which is suggestive of a bottom-up mechanism for face detection. In summary, we provide a novel computational approach which combines high level object knowledge (in our case: face locations) with low-level features to successfully predict the allocation of attentional resources.\n"
          ],
          "name": "stdout"
        }
      ]
    },
    {
      "cell_type": "code",
      "metadata": {
        "id": "En7K7yeFXnXw",
        "colab_type": "code",
        "outputId": "5aba6d93-3e58-43d5-b81b-f636dd48d63e",
        "colab": {
          "base_uri": "https://localhost:8080/",
          "height": 121
        }
      },
      "source": [
        "corpus_init = ' '.join(list(text))\n",
        "words_init = corpus_init.split()\n",
        "n_words_init = len(words_init)\n",
        "unique_words_init = sorted(list(set(words_init)))\n",
        "n_unique_words_init = len(unique_words_init)\n",
        "print(\"Total number of words before text preprocessing:\", n_words_init)\n",
        "print(\"Total number of unique words before text preprocessing: \", n_unique_words_init)\n",
        "print(unique_words_init[:100])\n",
        "print(unique_words_init[100:200])\n",
        "print(unique_words_init[200:300])"
      ],
      "execution_count": 12,
      "outputs": [
        {
          "output_type": "stream",
          "text": [
            "Total number of words before text preprocessing: 212975\n",
            "Total number of unique words before text preprocessing:  19055\n",
            "['\"DUOL\"', '\"Expansion-Constrained', '\"Generalized', '\"Hedge\"', '\"autotags\")', '\"averagers,\"', '\"chill\"', '\"disagreement', '\"disappearance\"', '\"expected', '\"external\"', '\"functional', '\"human-like\"', '\"internal\"', '\"isotropic\"', '\"jogging\"', '\"local', '\"missingness\"', '\"naive\"', '\"no\"', '\"nonlinearity\"', '\"shared', '\"simple', '\"skeleton\"', '\"smoothed', '#P', '#P-hard', '$', '$(+\\\\!3,', '$(0,\\\\pi/2]$.', '$(1+(1+\\\\epsilon)\\\\gamma)$-approximate', '$(1+\\\\alpha)\\\\,L^*_\\\\gamma', '$(1+\\\\eps)$', '$(1+\\\\eps)$-approximation', '$(2,', '$(2,1)$-norm', '$(3,', '$(Christopher,', '$(X_1,', '$(\\\\alpha,', '$(\\\\beta,B)$-Bernstein,', '$(has\\\\_husband,', '$(m\\\\gg', '$(x_k)_{k=0}^K$,', '$(x_k)_{k=1}^K$', '$(y_k', '$+$', '$+1$', '$+1/\\\\sqrt{t}$', '$+\\\\!3$', '$-1$', '$-1/\\\\sqrt{t}$', '$0$', '$1', '$1$', '$1$-norm', '$1$.', '$1)$', '$1,', '$1,\\\\infty$', '$1,\\\\infty$-regularized', '$1-\\\\alpha_i$', '$1/\\\\epsilon$', '$1/\\\\epsilon$.', '$10^{64}$', '$10^{70}$', '$11\\\\%$', '$14\\\\%$', '$14\\\\epsilon', '$1\\\\leq', '$2)$', '$2+\\\\eps$.', '$2\\\\sqrt{T}e^{-\\\\epsilon^2', '$2^d$', '$2n\\\\ln', '$30$', '$500$', '$512', '$66\\\\%$', '$95$\\\\%', '$98.1\\\\%$', '$A', '$A$', '$A_k$', '$C$', '$C(P)$', '$C(P)\\\\log', '$C(s-N)^{1/p}\\\\sqrt{\\\\log', '$C_L$', '$Cs^{1/p}\\\\sqrt{\\\\log', '$D$', '$D_i$', '$G', '$G$', '$G(n,\\\\frac{1}{2})$.', '$G(x)$', '$H\\\\subset', '$I_{\\\\rho_t}(S;A)', '$I_{\\\\rho_t}(S;A)$', '$K$']\n",
            "['$K$-CV,', '$K$-dimensional', '$K$-fold', '$K$-sparse', '$K$th-order', '$K<M\\\\ll', '$KL$', '$L^*_\\\\gamma$', '$L_1$', '$L_1$-norm.', '$L_1$-regularization', '$L_2$', '$L_\\\\infty$-norm', '$L_p$', '$L_p$-nested', '$L_p$-norms', '$L_p$-norms.', '$L_p$-spherically', '$L_p${\\\\em', '$M$', '$M$-estimators', '$N$', '$N$,', '$N(0,\\\\sigma^2I)$,', '$N=s$,', '$N\\\\approx', '$N^2$', '$O(1', '$O(1/\\\\epsilon)$', '$O(1/\\\\epsilon^{2})$', '$O(1/\\\\sqrt{T})$', '$O(1/\\\\sqrt{\\\\epsilon})$', '$O(1/\\\\sqrt{\\\\varepsilon})$.', '$O(1/\\\\sqrt{n})$.', '$O(1/n)$', '$O(1/n)$.', '$O(B\\\\theta', '$O(D^3\\\\log^2', '$O(D^{2+\\\\delta})$', '$O(D^{2})$).', '$O(N^{-0.5+\\\\eps})$', '$O(N^{-0.5})$.', '$O(T^{-1})$.', '$O(T^{-{\\\\gamma}/{d}})$,', '$O(T^{1/2}\\\\log', '$O(T^{2/3}', '$O(\\\\eps)$', '$O(\\\\frac{1}{N}+\\\\exp\\\\{-N\\\\})$', '$O(\\\\frac{1}{N}+\\\\frac{1}{N^2})$', '$O(\\\\frac{\\\\log', '$O(\\\\frac{k^2}{\\\\eps^2}', '$O(\\\\frac{k}{\\\\eps^2}', '$O(\\\\ln', '$O(\\\\log', '$O(\\\\poly(d)\\\\sqrt{T})$', '$O(\\\\sqrt{\\\\eps})$.', '$O(\\\\sqrt{n(\\\\log', '$O(dk^3/\\\\eps^2)$', '$O(k-1)', '$O(m^{1/3}\\\\sqrt{ln', '$O(n', '$O(n)$', '$O(n+', '$O(n\\\\log^2n/\\\\log(2D))$', '$O(n\\\\poly(\\\\log', '$O(n^2)$', '$O(n^3)$', '$O(n^{-\\\\frac{\\\\alpha}{1+\\\\alpha}})$,', '$O(p^2)$', '$O(rn^2)$,', '$O\\\\left(\\\\frac{k}{\\\\eps^2}\\\\left(\\\\min\\\\left(k,', '$R$', '$R$-nearest', '$R^d$.', '$S', '$S$', '$SVM-\\\\theta$', '$S_1$),', '$S_k$', '$S_k$---we', '$S_k$-sparse', '$T', '$T$', '$T$.', '$U(\\\\theta)$', '$U(\\\\theta)$,', '$V$', '$X', '$X$', '$X$.', '$X=x$', '$X\\\\in', '$Y$', '$Y$.', '$Y_T$', '$Y_T$.', '$Z$', '$Z$.', '$\\\\Delta', '$\\\\Delta$']\n",
            "['$\\\\Hilb$', '$\\\\Hilb$.', '$\\\\Hilb$;', '$\\\\LTP$', '$\\\\LowerRateSq', '$\\\\LowerRateSq$', '$\\\\MO$($n^2$)', '$\\\\MO$($np/m$),', '$\\\\MO$($np^2/m$).', '$\\\\Omega', '$\\\\Omega(D\\\\log', '$\\\\Omega(N^2)$', '$\\\\Omega(\\\\sqrt{T})$', '$\\\\Omega(k', '$\\\\Omega(k\\\\log(n-k))$', '$\\\\Omega(p)$', '$\\\\R^d$,', '$\\\\R^d$.', '$\\\\R^n$', '$\\\\R^n$.', '$\\\\R^n_+$.', '$\\\\Real^d$,', '$\\\\Sigma$', '$\\\\Sigma$:', '$\\\\SobM$', '$\\\\Theta$', '$\\\\Theta(\\\\ln', '$\\\\Theta(\\\\sum_{i}D_{i}^{2})$', '$\\\\Theta(k', '$\\\\Theta(n)$', '$\\\\Theta({\\\\sqrt{n}})$', '$\\\\a$-mixing', '$\\\\alpha', '$\\\\alpha$', '$\\\\alpha$-divergence', '$\\\\alpha$-expansion', '$\\\\alpha,\\\\epsilon$,', '$\\\\alpha=0$.', '$\\\\alpha_i$', '$\\\\auc$', '$\\\\beta', '$\\\\beta$-divergences.', '$\\\\beta$.', '$\\\\beta^*$', '$\\\\beta^*$,', '$\\\\beta^*$.', '$\\\\beta^{\\\\star}$', '$\\\\bx$,', '$\\\\cH$', '$\\\\chi^2$', '$\\\\de$', '$\\\\delta$', '$\\\\delta>0$', '$\\\\dim$', '$\\\\dot{\\\\Theta}$', '$\\\\dot{\\\\Theta}$,', '$\\\\ell$', '$\\\\ell_0$', '$\\\\ell_0$-type', '$\\\\ell_1$', '$\\\\ell_1$,', '$\\\\ell_1$-based', '$\\\\ell_1$-norm', '$\\\\ell_1$-norm),', '$\\\\ell_1$-penalized', '$\\\\ell_1$-penalty', '$\\\\ell_1$-regularization', '$\\\\ell_1$-regularized', '$\\\\ell_1$-regularizer).', '$\\\\ell_1$.', '$\\\\ell_1/\\\\ell_q$', '$\\\\ell_2$', '$\\\\ell_2$,', '$\\\\ell_2$-ball', '$\\\\ell_2^2$,', '$\\\\ell_\\\\infty$', '$\\\\ell_\\\\infty$-norms', '$\\\\ellnorm_p$', '$\\\\eps', '$\\\\eps$', '$\\\\eps$,', '$\\\\eps>0$', '$\\\\epsilon', '$\\\\epsilon$', '$\\\\epsilon$-decompositions', '$\\\\epsilon$-descent', '$\\\\epsilon$-optimal', '$\\\\epsilon$-pointwise', '$\\\\epsilon$.', '$\\\\eta$', '$\\\\eta$-function', '$\\\\eta$-function.', '$\\\\exp(-\\\\Theta)$', '$\\\\exp(\\\\cdot)$,', '$\\\\exp(\\\\tilde{O}(1/\\\\gamma))$.', '$\\\\frac{2\\\\gamma{(1-\\\\gamma)^2}\\\\epsilon$-optimal.', '$\\\\frac{2\\\\gamma}{1-\\\\gamma}\\\\epsilon$-optimal,', '$\\\\gamma$', '$\\\\gamma$-approximate', '$\\\\gamma$-discounted']\n"
          ],
          "name": "stdout"
        }
      ]
    },
    {
      "cell_type": "markdown",
      "metadata": {
        "id": "bMYBkIVj8TaS",
        "colab_type": "text"
      },
      "source": [
        "# Text Preprocessing"
      ]
    },
    {
      "cell_type": "code",
      "metadata": {
        "id": "BxwXnb1edrwU",
        "colab_type": "code",
        "colab": {}
      },
      "source": [
        "def remove_non_ascii(words):\n",
        "    \"\"\"Remove non-ASCII characters from list of tokenized words\"\"\"\n",
        "    new_words = []\n",
        "    for word in words:\n",
        "        if word != ',' or word != '.':\n",
        "          new_word = unicodedata.normalize('NFKD', word).encode('ascii', 'ignore').decode('utf-8', 'ignore')\n",
        "          new_words.append(new_word)\n",
        "    return new_words"
      ],
      "execution_count": 0,
      "outputs": []
    },
    {
      "cell_type": "code",
      "metadata": {
        "id": "RvSSyr478sfy",
        "colab_type": "code",
        "colab": {}
      },
      "source": [
        "def clean_text(text):\n",
        "  # noise removal\n",
        "  text = re.sub(r'\\bhttps?://\\w+.+[^ ]\\b', 'link', text) #replace url with link\n",
        "  text = re.sub(r'\\~\\\\cite\\{[^}]*\\}','',text) # remove cite in the format of \"~\\cite{DeSaOR16}\"\n",
        "  text = re.sub(r'\\[[^]]*\\]', '', text) # remove between square brackets\n",
        "  text = re.sub(r'\\([^)]*\\)', '', text) # remove between parentheses\n",
        "  text = re.sub(r'\\{[^)]*\\}', '', text) # remove between curly brackets\n",
        "  \n",
        "  # normalization\n",
        "  text = text.lower() # convert to lowercase text\n",
        "  text = re.sub(r'\\-',' ', text) # seperate words like 'video-related'\n",
        "  text = re.sub(r'[^a-zA-Z0-9\\s\\.\\,]', '', text) # remove punctuation \n",
        "  \n",
        "  text = re.sub(r'[-+]?\\d*\\.?\\d+', 'NUMBER', text) # replace numbers with \"NUMBER\"\n",
        "  text = re.sub(r'\\.{2,}', '', text) # remove '..','...'\n",
        "  text = re.sub(r'\\.', ' . ', text) # seperate '.' from text\n",
        "  text = re.sub(r'\\,' , ' , ', text) # seperate ',' from text\n",
        "  \n",
        " \n",
        "  text = ' '.join(remove_non_ascii(text.split())) # remove non-ascii words\n",
        "  text = re.sub(r'[\\w]*NUMBER[\\w]*', 'NUMBER', text) # replace anyword containing \"NUMBER\" with \"NUMBER\"\n",
        "  \n",
        "  return text"
      ],
      "execution_count": 0,
      "outputs": []
    },
    {
      "cell_type": "code",
      "metadata": {
        "id": "5ysyMqmZ83sb",
        "colab_type": "code",
        "colab": {}
      },
      "source": [
        "text = text.apply(clean_text)"
      ],
      "execution_count": 0,
      "outputs": []
    },
    {
      "cell_type": "code",
      "metadata": {
        "id": "hVDllxHGqBlb",
        "colab_type": "code",
        "outputId": "a955fe39-0b0d-4968-a242-7d162c410c5e",
        "colab": {
          "base_uri": "https://localhost:8080/",
          "height": 87
        }
      },
      "source": [
        "print_text(0,text)\n",
        "print_text(10,text)\n",
        "print_text(20, text)"
      ],
      "execution_count": 16,
      "outputs": [
        {
          "output_type": "stream",
          "text": [
            "up propagation is an algorithm for inverting and learning neural network generative models sensory input is processed by inverting a model that generates patterns from hidden variables using topdown connections the inversion process is iterative utilizing a negative feedback loop that depends on an error signal propagated by bottomup connections the error signal is also used to learn the generative model from examples the algorithm is benchmarked against principal component analysis in experiments on images of handwritten digits .\n",
            "computational models of visual cortex , and in particular those based on sparse coding , have enjoyed much recent attention . despite this currency , the question of how sparse or how over complete a sparse representation should be , has gone without principled answer . here , we use bayesian model selection methods to address these questions for a sparse coding model based on a student t prior . having validated our methods on toy data , we find that natural images are indeed best modelled by extremely sparse distributions although for the student t prior , the associated optimal basis size is only modestly overcomplete .\n",
            "under natural viewing conditions , human observers shift their gaze to allocate processing resources to subsets of the visual input . many computational models have aimed at predicting such voluntary attentional shifts . although the importance of high level stimulus properties stands undisputed , most models are based on low level features of the input alone . in this study we recorded eye movements of human observers while they viewed photographs of natural scenes . about two thirds of the stimuli contained at least one person . we demonstrate that a combined model of face detection and low level saliency clearly outperforms a low level model in predicting locations humans fixate . this is reflected in our finding fact that observes , even when not instructed to look for anything particular , fixate on a face with a probability of over NUMBER within their first two fixations . remarkably , the models predictive performance in images that do not contain faces is not impaired by spurious face detector responses , which is suggestive of a bottom up mechanism for face detection . in summary , we provide a novel computational approach which combines high level object knowledge with low level features to successfully predict the allocation of attentional resources .\n"
          ],
          "name": "stdout"
        }
      ]
    },
    {
      "cell_type": "code",
      "metadata": {
        "id": "Eem9Mwd3YsbO",
        "colab_type": "code",
        "outputId": "7bd3355a-0f23-4f74-9a79-9a09f4d1551b",
        "colab": {
          "base_uri": "https://localhost:8080/",
          "height": 154
        }
      },
      "source": [
        "text_list = list(text)\n",
        "corpus = ' '.join(text_list)\n",
        "words = corpus.split()\n",
        "n_words = len(words)\n",
        "unique_words = sorted(list(set(words)))\n",
        "n_unique_words = len(unique_words)\n",
        "print(\"Total number of words:\", n_words)\n",
        "print(\"Total number of unique words: \", n_unique_words)\n",
        "print(unique_words[:100])\n",
        "print(unique_words[100:200])\n",
        "print(unique_words[200:300])\n",
        "print(unique_words[300:400])\n",
        "print(unique_words[400:500])"
      ],
      "execution_count": 17,
      "outputs": [
        {
          "output_type": "stream",
          "text": [
            "Total number of words: 228147\n",
            "Total number of unique words:  8897\n",
            "[',', '.', 'NUMBER', 'a', 'aaai', 'aalen', 'aberrant', 'abilities', 'ability', 'able', 'abnormalities', 'abound', 'about', 'above', 'abrupt', 'absence', 'absent', 'absolute', 'absolutely', 'absorb', 'absorbed', 'absorbing', 'absorption', 'abstain', 'abstaining', 'abstention', 'abstract', 'abstraction', 'abstractions', 'abstracts', 'abundancy', 'abuse', 'ac', 'accelerate', 'accelerated', 'accelerating', 'acceleration', 'accelerometers', 'accept', 'acceptable', 'acceptance', 'accepted', 'access', 'accessed', 'accessible', 'acclaimed', 'accommodate', 'accommodates', 'accompanied', 'accompanying', 'accomplish', 'accomplished', 'accomplishes', 'accord', 'accordance', 'according', 'accordingly', 'account', 'accounted', 'accounting', 'accounts', 'accp', 'accumulate', 'accumulated', 'accumulation', 'accumulator', 'accuracies', 'accuracy', 'accurate', 'accurately', 'acetylcholine', 'achievable', 'achieve', 'achieved', 'achieves', 'achieving', 'acknowledges', 'acoustic', 'acoustics', 'acquire', 'acquired', 'acquiring', 'acquisition', 'across', 'acs', 'act', 'acterization', 'acting', 'action', 'actions', 'activated', 'activation', 'activations', 'active', 'actively', 'activities', 'activity', 'actor', 'actors', 'acts']\n",
            "['actual', 'actually', 'actuated', 'acyclic', 'ad', 'ada', 'adaboost', 'adap', 'adapt', 'adaptability', 'adaptation', 'adapted', 'adapting', 'adaptive', 'adaptively', 'adaptiveness', 'adaptivity', 'adaptor', 'adapts', 'add', 'added', 'adding', 'addition', 'additional', 'additionally', 'additions', 'additive', 'address', 'addressed', 'addresses', 'addressing', 'adds', 'adequacy', 'adequate', 'adequately', 'adhering', 'adjacency', 'adjacent', 'adjusted', 'adjusting', 'adjustment', 'adjustments', 'adjusts', 'adm', 'administered', 'admira', 'admissible', 'admit', 'admits', 'admixture', 'adni', 'ado', 'adolescent', 'adopt', 'adopted', 'adopting', 'adopts', 'adp', 'adress', 'adresses', 'ads', 'adults', 'advance', 'advanced', 'advancement', 'advances', 'advancing', 'advantage', 'advantageous', 'advantages', 'advent', 'adversarial', 'adversaries', 'adversary', 'adverse', 'advertisement', 'advertisers', 'advertising', 'advice', 'advised', 'advocate', 'advocated', 'aer', 'aesthetic', 'aesthetically', 'afd', 'affairs', 'affect', 'affected', 'affecting', 'affects', 'afferent', 'affine', 'affinities', 'affinity', 'affirmative', 'afforded', 'affords', 'aforementioned', 'aforesaid']\n",
            "['after', 'aftereffects', 'afterwards', 'again', 'against', 'age', 'agenda', 'agendas', 'agent', 'agents', 'agglomerate', 'agglomerative', 'aggregate', 'aggregated', 'aggregating', 'aggregation', 'aggressive', 'aggressively', 'agnostic', 'agnostically', 'ago', 'agorithm', 'agree', 'agreement', 'ahead', 'ahp', 'ai', 'aic', 'aid', 'aids', 'aim', 'aimed', 'aiming', 'aims', 'ais', 'akaike', 'akin', 'al', 'alarm', 'alarms', 'album', 'alcohol', 'alert', 'alexanders', 'algebra', 'algebraic', 'algo', 'algorithm', 'algorithmic', 'algorithmically', 'algorithms', 'aligned', 'aligning', 'alignment', 'alignments', 'aligns', 'alike', 'all', 'allay', 'alleviate', 'alleviated', 'alleviating', 'alligned', 'allocate', 'allocated', 'allocating', 'allocation', 'allow', 'allowed', 'allowing', 'allows', 'almost', 'alone', 'along', 'alongside', 'alpaca', 'alpha', 'alphabet', 'alphabets', 'alphai', 'already', 'also', 'alter', 'alteration', 'altered', 'altering', 'alternate', 'alternately', 'alternates', 'alternating', 'alternation', 'alternations', 'alternative', 'alternatively', 'alternatives', 'although', 'altogether', 'always', 'alzheimer', 'alzheimers']\n",
            "['am', 'amazon', 'ambient', 'ambiguities', 'ambiguity', 'ambiguous', 'ambitious', 'amenable', 'ammar', 'amoebe', 'among', 'amongst', 'amount', 'amounts', 'amp', 'ample', 'amplified', 'amplitude', 'amplitudes', 'an', 'analog', 'analogous', 'analogs', 'analogue', 'analogues', 'analogy', 'analyse', 'analysed', 'analyses', 'analysis', 'analysts', 'analytic', 'analytical', 'analytically', 'analyze', 'analyzed', 'analyzers', 'analyzes', 'analyzing', 'anatomic', 'anatomical', 'anatomically', 'ancestor', 'ancestral', 'anchor', 'anchored', 'anchoring', 'anchors', 'ancient', 'and', 'andor', 'anecdotal', 'anesthesia', 'anesthetized', 'anew', 'angle', 'angles', 'angular', 'animal', 'animals', 'anisotropic', 'anlysis', 'annealed', 'annealing', 'annotate', 'annotated', 'annotating', 'annotation', 'annotations', 'annotator', 'annotators', 'annual', 'anomalies', 'anomalous', 'anomaly', 'anonymize', 'another', 'anothers', 'answer', 'answers', 'ant', 'antagonistic', 'antennal', 'anterior', 'anthropomorphic', 'anticipate', 'anticipated', 'anticipative', 'anticipatory', 'antisense', 'antithetic', 'ants', 'any', 'anything', 'anytime', 'anyway', 'ap', 'apache', 'apart', 'aperture']\n",
            "['apiavi', 'aposteriori', 'apparatus', 'apparent', 'apparently', 'appeal', 'appealing', 'appear', 'appearance', 'appearances', 'appeared', 'appearing', 'appears', 'append', 'appled', 'appliances', 'applica', 'applicability', 'applicable', 'application', 'applications', 'applied', 'applies', 'apply', 'applying', 'apprentices', 'apprenticeship', 'approach', 'approached', 'approaches', 'approaching', 'approachs', 'approporiate', 'appropriate', 'appropriately', 'appropriateness', 'approximate', 'approximated', 'approximately', 'approximates', 'approximating', 'approximation', 'approximationbellman', 'approximations', 'approximator', 'approximators', 'ar', 'arabic', 'arate', 'arbiters', 'arbitrarily', 'arbitrary', 'architecture', 'architectures', 'arcones', 'ard', 'are', 'area', 'areas', 'arguably', 'argue', 'argued', 'argument', 'arguments', 'arise', 'arises', 'arising', 'arithmetic', 'arm', 'armax', 'armed', 'armp', 'arms', 'arora', 'around', 'arow', 'arranged', 'arrangement', 'array', 'arrays', 'arrival', 'arrive', 'arriving', 'art', 'arterial', 'article', 'articles', 'articulated', 'artifact', 'artifacts', 'artificial', 'artificially', 'artists', 'arts', 'ary', 'as', 'ascent', 'asing', 'ask', 'asked']\n"
          ],
          "name": "stdout"
        }
      ]
    },
    {
      "cell_type": "markdown",
      "metadata": {
        "id": "DvLK5QhU0L34",
        "colab_type": "text"
      },
      "source": [
        "# Dataset preparation"
      ]
    },
    {
      "cell_type": "markdown",
      "metadata": {
        "id": "7sNXXnDEIGSV",
        "colab_type": "text"
      },
      "source": [
        "## Parameters configuration"
      ]
    },
    {
      "cell_type": "code",
      "metadata": {
        "id": "rQVt7zdjjH_C",
        "colab_type": "code",
        "colab": {}
      },
      "source": [
        "# Parameters configuration\n",
        "SEQUENCE_LENGTH = 100\n",
        "MAX_VOCAB_SIZE = n_unique_words\n",
        "EMBEDDING_DIM = 512\n",
        "BATCH_SIZE = 32\n",
        "EPOCHS = 10"
      ],
      "execution_count": 0,
      "outputs": []
    },
    {
      "cell_type": "markdown",
      "metadata": {
        "id": "QyfcHrPpINcK",
        "colab_type": "text"
      },
      "source": [
        "## Create sequences of words"
      ]
    },
    {
      "cell_type": "code",
      "metadata": {
        "id": "lII3wDDPjv9T",
        "colab_type": "code",
        "colab": {}
      },
      "source": [
        "# Create sequences of words\n",
        "sequences_words = []\n",
        "for i in range(0, n_words - SEQUENCE_LENGTH):\n",
        "\ts = ' '.join(words[i:i+SEQUENCE_LENGTH])\n",
        "\tsequences_words.append(s)"
      ],
      "execution_count": 0,
      "outputs": []
    },
    {
      "cell_type": "markdown",
      "metadata": {
        "id": "Eb3-uI_ZIRbR",
        "colab_type": "text"
      },
      "source": [
        "## Tokenization"
      ]
    },
    {
      "cell_type": "code",
      "metadata": {
        "id": "mfKBMQAY1a66",
        "colab_type": "code",
        "outputId": "a76e251c-1ea1-4352-8543-a37e99add995",
        "colab": {
          "base_uri": "https://localhost:8080/",
          "height": 50
        }
      },
      "source": [
        "# Tokenization\n",
        "tokenizer = Tokenizer(filters='!\"#$%&()*+-/:;<=>?@[\\\\]^_`{|}~\\t\\n', lower=False)\n",
        "tokenizer.fit_on_texts(sequences_words)\n",
        "word_index = tokenizer.word_index\n",
        "\n",
        "# convert the sequences into integers\n",
        "sequences = tokenizer.texts_to_sequences(sequences_words)\n",
        "n_sequences = len(sequences)\n",
        "# vocabulary size\n",
        "vocab_size = len(word_index) + 1\n",
        "\n",
        "print(\"Number of unique tokens: \", len(word_index))\n",
        "print('Total number of sequences: %d' % n_sequences)"
      ],
      "execution_count": 20,
      "outputs": [
        {
          "output_type": "stream",
          "text": [
            "Number of unique tokens:  8897\n",
            "Total number of sequences: 228047\n"
          ],
          "name": "stdout"
        }
      ]
    },
    {
      "cell_type": "markdown",
      "metadata": {
        "id": "KF-Gtu3TIVk-",
        "colab_type": "text"
      },
      "source": [
        "## Create input and output"
      ]
    },
    {
      "cell_type": "code",
      "metadata": {
        "id": "X1pTRtLAmNDS",
        "colab_type": "code",
        "colab": {}
      },
      "source": [
        "# Create input and output \n",
        "sequences = np.array(sequences)\n",
        "X, y = sequences[:,:-1], sequences[:,-1]\n",
        "\n",
        "y = to_categorical(y, num_classes = vocab_size)"
      ],
      "execution_count": 0,
      "outputs": []
    },
    {
      "cell_type": "code",
      "metadata": {
        "id": "5w9Ggx98E5G5",
        "colab_type": "code",
        "colab": {}
      },
      "source": [
        "# create training set and validation set\n",
        "def shuffle_train_test_split(X_all, y_all, shuffle=True, test_percent=20, random_state=10):\n",
        "    \n",
        "    if shuffle:\n",
        "      X_all_shuffled = []\n",
        "      y_all_shuffled = []\n",
        "      #for i in np.random.permutation(len(X_all)):\n",
        "      for i in np.random.RandomState(seed=random_state).permutation(len(X_all)):\n",
        "          X_all_shuffled.append(X_all[i])\n",
        "          y_all_shuffled.append(y_all[i])\n",
        "    else:\n",
        "      X_all_shuffled = X_all\n",
        "      y_all_shuffled = y_all\n",
        "\n",
        "    split_index = int(len(X_all) * (1.-(test_percent/100.)))\n",
        "    X_train, X_test = X_all_shuffled[:split_index], X_all_shuffled[split_index:]\n",
        "    y_train, y_test = y_all_shuffled[:split_index], y_all_shuffled[split_index:]\n",
        "    \n",
        "    X_train = np.array(X_train)    \n",
        "    y_train = np.array(y_train)\n",
        "    X_test = np.array(X_test)\n",
        "    y_test = np.array(y_test)\n",
        "    \n",
        "    return X_train, y_train, X_test, y_test"
      ],
      "execution_count": 0,
      "outputs": []
    },
    {
      "cell_type": "code",
      "metadata": {
        "id": "X0tlc5noHHCz",
        "colab_type": "code",
        "outputId": "a7a9cdd2-04d1-4dbf-d0a1-4c4b89f2b918",
        "colab": {
          "base_uri": "https://localhost:8080/",
          "height": 84
        }
      },
      "source": [
        "X_train, y_train, X_test, y_test = shuffle_train_test_split(X, y, test_percent=20)\n",
        "\n",
        "print(\"Shape of X training set: \", X_train.shape)\n",
        "print(\"Shape of y training set: \", y_train.shape)\n",
        "print(\"Shape of X test set: \", X_test.shape)\n",
        "print(\"Shape of y test set: \", y_test.shape)"
      ],
      "execution_count": 23,
      "outputs": [
        {
          "output_type": "stream",
          "text": [
            "Shape of X training set:  (182437, 99)\n",
            "Shape of y training set:  (182437, 8898)\n",
            "Shape of X test set:  (45610, 99)\n",
            "Shape of y test set:  (45610, 8898)\n"
          ],
          "name": "stdout"
        }
      ]
    },
    {
      "cell_type": "code",
      "metadata": {
        "id": "WFAeJpNWwxdZ",
        "colab_type": "code",
        "colab": {}
      },
      "source": [
        "#print(X_train[0])"
      ],
      "execution_count": 0,
      "outputs": []
    },
    {
      "cell_type": "markdown",
      "metadata": {
        "id": "CU9G9d3f7PcA",
        "colab_type": "text"
      },
      "source": [
        "# Modeling"
      ]
    },
    {
      "cell_type": "markdown",
      "metadata": {
        "id": "fwJUxLue7XaN",
        "colab_type": "text"
      },
      "source": [
        "## Building the model"
      ]
    },
    {
      "cell_type": "code",
      "metadata": {
        "id": "_3u8x8lX5jg3",
        "colab_type": "code",
        "outputId": "dba0bd54-f6bc-43b1-eb56-1a1fc9c9e0a7",
        "colab": {
          "base_uri": "https://localhost:8080/",
          "height": 356
        }
      },
      "source": [
        "model = Sequential()\n",
        "model.add(Embedding(input_dim=vocab_size, output_dim=EMBEDDING_DIM, input_length=SEQUENCE_LENGTH-1))\n",
        "model.add(Bidirectional(LSTM(128))) # the last LSTM layer\n",
        "model.add(Dropout(0.2))\n",
        "model.add(Dense(units=vocab_size, activation='softmax'))\n",
        "print(model.summary())"
      ],
      "execution_count": 25,
      "outputs": [
        {
          "output_type": "stream",
          "text": [
            "WARNING:tensorflow:<tensorflow.python.keras.layers.recurrent.UnifiedLSTM object at 0x7fbb8ccc5e80>: Note that this layer is not optimized for performance. Please use tf.keras.layers.CuDNNLSTM for better performance on GPU.\n",
            "WARNING:tensorflow:<tensorflow.python.keras.layers.recurrent.UnifiedLSTM object at 0x7fbb8e599f60>: Note that this layer is not optimized for performance. Please use tf.keras.layers.CuDNNLSTM for better performance on GPU.\n",
            "Model: \"sequential\"\n",
            "_________________________________________________________________\n",
            "Layer (type)                 Output Shape              Param #   \n",
            "=================================================================\n",
            "embedding (Embedding)        (None, 99, 512)           4555776   \n",
            "_________________________________________________________________\n",
            "bidirectional (Bidirectional (None, 256)               656384    \n",
            "_________________________________________________________________\n",
            "dropout (Dropout)            (None, 256)               0         \n",
            "_________________________________________________________________\n",
            "dense (Dense)                (None, 8898)              2286786   \n",
            "=================================================================\n",
            "Total params: 7,498,946\n",
            "Trainable params: 7,498,946\n",
            "Non-trainable params: 0\n",
            "_________________________________________________________________\n",
            "None\n"
          ],
          "name": "stdout"
        }
      ]
    },
    {
      "cell_type": "markdown",
      "metadata": {
        "id": "yXKGPrQ8-gL5",
        "colab_type": "text"
      },
      "source": [
        "## Compile the model"
      ]
    },
    {
      "cell_type": "code",
      "metadata": {
        "id": "NCEmLVPp-hqt",
        "colab_type": "code",
        "colab": {}
      },
      "source": [
        "model.compile(loss='categorical_crossentropy', optimizer='adam', metrics=['accuracy'])"
      ],
      "execution_count": 0,
      "outputs": []
    },
    {
      "cell_type": "markdown",
      "metadata": {
        "id": "YaFcd95r-7tD",
        "colab_type": "text"
      },
      "source": [
        "## Define the checkpoint"
      ]
    },
    {
      "cell_type": "code",
      "metadata": {
        "id": "-gnJCiEb-9C_",
        "colab_type": "code",
        "colab": {}
      },
      "source": [
        "filepath = \"model_weights_epoch{epoch:03d}_loss{loss:.4f}_acc{accuracy:.4f}_val_loss{val_loss:.4f}_val_acc{val_accuracy:.4f}.hdf5\"\n",
        "checkpoint = ModelCheckpoint(filepath, monitor='loss', verbose=1, save_best_only=True)\n",
        "early_stopping = EarlyStopping(monitor='loss', patience=5)\n",
        "callbacks_list = [checkpoint, early_stopping]"
      ],
      "execution_count": 0,
      "outputs": []
    },
    {
      "cell_type": "markdown",
      "metadata": {
        "id": "UW5XlkgjAuLp",
        "colab_type": "text"
      },
      "source": [
        "## Train the model"
      ]
    },
    {
      "cell_type": "code",
      "metadata": {
        "id": "__8CsMnAPMci",
        "colab_type": "code",
        "outputId": "7ae39a43-9b09-4374-b309-ab0b48acdeff",
        "colab": {
          "base_uri": "https://localhost:8080/",
          "height": 742
        }
      },
      "source": [
        "model.fit(X_train, y_train, \n",
        "          batch_size = BATCH_SIZE, \n",
        "          epochs = EPOCHS, \n",
        "          callbacks = callbacks_list,\n",
        "          validation_data = (X_test, y_test))"
      ],
      "execution_count": 28,
      "outputs": [
        {
          "output_type": "stream",
          "text": [
            "Train on 182437 samples, validate on 45610 samples\n",
            "Epoch 1/10\n",
            "182432/182437 [============================>.] - ETA: 0s - loss: 5.8152 - accuracy: 0.1586\n",
            "Epoch 00001: loss improved from inf to 5.81527, saving model to model_weights_epoch001_loss5.8153_acc0.1586_val_loss5.3607_val_acc0.2009.hdf5\n",
            "182437/182437 [==============================] - 321s 2ms/sample - loss: 5.8153 - accuracy: 0.1586 - val_loss: 5.3607 - val_accuracy: 0.2009\n",
            "Epoch 2/10\n",
            "182432/182437 [============================>.] - ETA: 0s - loss: 5.0487 - accuracy: 0.2172\n",
            "Epoch 00002: loss improved from 5.81527 to 5.04876, saving model to model_weights_epoch002_loss5.0488_acc0.2172_val_loss5.1478_val_acc0.2231.hdf5\n",
            "182437/182437 [==============================] - 319s 2ms/sample - loss: 5.0488 - accuracy: 0.2172 - val_loss: 5.1478 - val_accuracy: 0.2231\n",
            "Epoch 3/10\n",
            "182432/182437 [============================>.] - ETA: 0s - loss: 4.5998 - accuracy: 0.2467\n",
            "Epoch 00003: loss improved from 5.04876 to 4.59972, saving model to model_weights_epoch003_loss4.5997_acc0.2467_val_loss5.1176_val_acc0.2320.hdf5\n",
            "182437/182437 [==============================] - 317s 2ms/sample - loss: 4.5997 - accuracy: 0.2467 - val_loss: 5.1176 - val_accuracy: 0.2320\n",
            "Epoch 4/10\n",
            "182432/182437 [============================>.] - ETA: 0s - loss: 4.1712 - accuracy: 0.2777\n",
            "Epoch 00004: loss improved from 4.59972 to 4.17121, saving model to model_weights_epoch004_loss4.1712_acc0.2777_val_loss5.1799_val_acc0.2272.hdf5\n",
            "182437/182437 [==============================] - 317s 2ms/sample - loss: 4.1712 - accuracy: 0.2777 - val_loss: 5.1799 - val_accuracy: 0.2272\n",
            "Epoch 5/10\n",
            "182400/182437 [============================>.] - ETA: 0s - loss: 3.7446 - accuracy: 0.3142\n",
            "Epoch 00005: loss improved from 4.17121 to 3.74464, saving model to model_weights_epoch005_loss3.7446_acc0.3142_val_loss5.3041_val_acc0.2253.hdf5\n",
            "182437/182437 [==============================] - 320s 2ms/sample - loss: 3.7446 - accuracy: 0.3142 - val_loss: 5.3041 - val_accuracy: 0.2253\n",
            "Epoch 6/10\n",
            "182432/182437 [============================>.] - ETA: 0s - loss: 3.3490 - accuracy: 0.3570\n",
            "Epoch 00006: loss improved from 3.74464 to 3.34899, saving model to model_weights_epoch006_loss3.3490_acc0.3570_val_loss5.4270_val_acc0.2200.hdf5\n",
            "182437/182437 [==============================] - 321s 2ms/sample - loss: 3.3490 - accuracy: 0.3570 - val_loss: 5.4270 - val_accuracy: 0.2200\n",
            "Epoch 7/10\n",
            "182432/182437 [============================>.] - ETA: 0s - loss: 2.9951 - accuracy: 0.4032\n",
            "Epoch 00007: loss improved from 3.34899 to 2.99519, saving model to model_weights_epoch007_loss2.9952_acc0.4032_val_loss5.5744_val_acc0.2146.hdf5\n",
            "182437/182437 [==============================] - 320s 2ms/sample - loss: 2.9952 - accuracy: 0.4032 - val_loss: 5.5744 - val_accuracy: 0.2146\n",
            "Epoch 8/10\n",
            "182400/182437 [============================>.] - ETA: 0s - loss: 2.6957 - accuracy: 0.4462\n",
            "Epoch 00008: loss improved from 2.99519 to 2.69578, saving model to model_weights_epoch008_loss2.6958_acc0.4462_val_loss5.7098_val_acc0.2085.hdf5\n",
            "182437/182437 [==============================] - 316s 2ms/sample - loss: 2.6958 - accuracy: 0.4462 - val_loss: 5.7098 - val_accuracy: 0.2085\n",
            "Epoch 9/10\n",
            "182432/182437 [============================>.] - ETA: 0s - loss: 2.4362 - accuracy: 0.4878\n",
            "Epoch 00009: loss improved from 2.69578 to 2.43628, saving model to model_weights_epoch009_loss2.4363_acc0.4878_val_loss5.8397_val_acc0.2022.hdf5\n",
            "182437/182437 [==============================] - 317s 2ms/sample - loss: 2.4363 - accuracy: 0.4878 - val_loss: 5.8397 - val_accuracy: 0.2022\n",
            "Epoch 10/10\n",
            "182432/182437 [============================>.] - ETA: 0s - loss: 2.2174 - accuracy: 0.5210\n",
            "Epoch 00010: loss improved from 2.43628 to 2.21742, saving model to model_weights_epoch010_loss2.2174_acc0.5210_val_loss5.9626_val_acc0.1983.hdf5\n",
            "182437/182437 [==============================] - 318s 2ms/sample - loss: 2.2174 - accuracy: 0.5210 - val_loss: 5.9626 - val_accuracy: 0.1983\n"
          ],
          "name": "stdout"
        },
        {
          "output_type": "execute_result",
          "data": {
            "text/plain": [
              "<tensorflow.python.keras.callbacks.History at 0x7fbb8be9cf28>"
            ]
          },
          "metadata": {
            "tags": []
          },
          "execution_count": 28
        }
      ]
    },
    {
      "cell_type": "markdown",
      "metadata": {
        "id": "seN4D8PfESAX",
        "colab_type": "text"
      },
      "source": [
        "# Output details"
      ]
    },
    {
      "cell_type": "code",
      "metadata": {
        "id": "2JEs3LtFvNy1",
        "colab_type": "code",
        "outputId": "7b205aca-cc5e-441b-cb41-0d76ed3786e9",
        "colab": {
          "base_uri": "https://localhost:8080/",
          "height": 1000
        }
      },
      "source": [
        "# Get the output of a layer\n",
        "# embedding\n",
        "get_layer_output0 = backend.function(inputs = model.input, outputs = model.layers[0].output)\n",
        "layer_output0 = get_layer_output0(sequences[:5])\n",
        "# lstm\n",
        "get_layer_output1 = backend.function(inputs = model.input, outputs = model.layers[1].output)\n",
        "layer_output1 = get_layer_output1(sequences[:5])\n",
        "# dropout\n",
        "get_layer_output2 = backend.function(inputs = model.input, outputs = model.layers[2].output)\n",
        "layer_output2 = get_layer_output1(sequences[:5])\n",
        "# dense\n",
        "get_layer_output3 = backend.function(inputs = model.input, outputs = model.layers[3].output)\n",
        "layer_output3 = get_layer_output1(sequences[:5])\n",
        "\n",
        "print(\"layer: \", model.layers[0])\n",
        "print(\"layer output: \", layer_output0)\n",
        "print(\"layer: \", model.layers[1])\n",
        "print(\"layer output: \", layer_output1)\n",
        "print(\"layer: \", model.layers[2])\n",
        "print(\"layer output: \", layer_output2)\n",
        "print(\"layer: \", model.layers[3])\n",
        "print(\"layer output: \", layer_output3)"
      ],
      "execution_count": 29,
      "outputs": [
        {
          "output_type": "stream",
          "text": [
            "layer:  <tensorflow.python.keras.layers.embeddings.Embedding object at 0x7fbb8cc42ac8>\n",
            "layer output:  [[[ 0.20554519  0.20288983  0.19393457 ... -0.0007705   0.04818037\n",
            "   -0.15278658]\n",
            "  [-0.03763249  0.4043907   0.14942177 ...  0.11484479 -0.5528995\n",
            "    0.45601395]\n",
            "  [ 0.02235835 -0.16450481  0.22147314 ...  0.0764342   0.17384566\n",
            "    0.26113456]\n",
            "  ...\n",
            "  [ 0.1155671  -0.08567201  0.42066222 ... -0.17167073  0.16942848\n",
            "   -0.26238167]\n",
            "  [-0.09397724 -0.06511106 -0.21372493 ...  0.70120984  0.24664584\n",
            "   -0.04742411]\n",
            "  [ 0.00174669 -0.19702174 -0.20141216 ...  0.2795064   0.05864049\n",
            "   -0.10383115]]\n",
            "\n",
            " [[-0.03763249  0.4043907   0.14942177 ...  0.11484479 -0.5528995\n",
            "    0.45601395]\n",
            "  [ 0.02235835 -0.16450481  0.22147314 ...  0.0764342   0.17384566\n",
            "    0.26113456]\n",
            "  [ 0.05065278  0.10408973  0.33159038 ...  0.47294742 -0.16465123\n",
            "    0.06863154]\n",
            "  ...\n",
            "  [-0.09397724 -0.06511106 -0.21372493 ...  0.70120984  0.24664584\n",
            "   -0.04742411]\n",
            "  [ 0.00174669 -0.19702174 -0.20141216 ...  0.2795064   0.05864049\n",
            "   -0.10383115]\n",
            "  [ 0.39888725 -0.72240037 -0.56028974 ... -0.21908966 -0.12352631\n",
            "   -0.18970588]]\n",
            "\n",
            " [[ 0.02235835 -0.16450481  0.22147314 ...  0.0764342   0.17384566\n",
            "    0.26113456]\n",
            "  [ 0.05065278  0.10408973  0.33159038 ...  0.47294742 -0.16465123\n",
            "    0.06863154]\n",
            "  [ 0.2340966   0.23810153 -0.23168196 ...  0.30621243  0.09044719\n",
            "    0.10161848]\n",
            "  ...\n",
            "  [ 0.00174669 -0.19702174 -0.20141216 ...  0.2795064   0.05864049\n",
            "   -0.10383115]\n",
            "  [ 0.39888725 -0.72240037 -0.56028974 ... -0.21908966 -0.12352631\n",
            "   -0.18970588]\n",
            "  [-0.25258663 -0.07328802 -0.11810212 ...  0.00950293 -0.09965868\n",
            "   -0.26287824]]\n",
            "\n",
            " [[ 0.05065278  0.10408973  0.33159038 ...  0.47294742 -0.16465123\n",
            "    0.06863154]\n",
            "  [ 0.2340966   0.23810153 -0.23168196 ...  0.30621243  0.09044719\n",
            "    0.10161848]\n",
            "  [ 0.23453464  0.02375309  0.19277833 ... -0.06766187  0.58834296\n",
            "   -0.021005  ]\n",
            "  ...\n",
            "  [ 0.39888725 -0.72240037 -0.56028974 ... -0.21908966 -0.12352631\n",
            "   -0.18970588]\n",
            "  [-0.25258663 -0.07328802 -0.11810212 ...  0.00950293 -0.09965868\n",
            "   -0.26287824]\n",
            "  [-0.04378894 -0.0534263  -0.0959979  ...  0.5044338  -0.28381228\n",
            "   -0.37793207]]\n",
            "\n",
            " [[ 0.2340966   0.23810153 -0.23168196 ...  0.30621243  0.09044719\n",
            "    0.10161848]\n",
            "  [ 0.23453464  0.02375309  0.19277833 ... -0.06766187  0.58834296\n",
            "   -0.021005  ]\n",
            "  [-0.09713266 -0.08154852  0.3304558  ... -0.08020283  0.03029915\n",
            "    0.49894217]\n",
            "  ...\n",
            "  [-0.25258663 -0.07328802 -0.11810212 ...  0.00950293 -0.09965868\n",
            "   -0.26287824]\n",
            "  [-0.04378894 -0.0534263  -0.0959979  ...  0.5044338  -0.28381228\n",
            "   -0.37793207]\n",
            "  [ 0.28971344  0.06333099 -0.04442856 ... -0.03797781  0.22617984\n",
            "   -0.08957984]]]\n",
            "layer:  <tensorflow.python.keras.layers.wrappers.Bidirectional object at 0x7fbb8e5998d0>\n",
            "layer output:  [[-7.4866724e-01  9.3392380e-02 -5.0069254e-02 ...  5.7458574e-01\n",
            "   9.3238378e-01 -9.0126204e-01]\n",
            " [-2.7342588e-01  5.4087036e-04 -6.0464913e-01 ... -4.8929765e-03\n",
            "   5.4416317e-01 -5.1023030e-01]\n",
            " [-7.8089756e-01  4.0302327e-04 -6.5559953e-01 ...  3.0058439e-04\n",
            "   1.9843582e-02 -1.2420920e-01]\n",
            " [-7.1246141e-01  6.7042492e-02  3.5391289e-01 ... -4.2369565e-01\n",
            "   8.2437620e-02 -1.4031559e-03]\n",
            " [ 7.8546733e-02  1.1311619e-01  2.2944550e-01 ... -1.1994105e-02\n",
            "  -8.2746387e-01 -5.1694548e-01]]\n",
            "layer:  <tensorflow.python.keras.layers.core.Dropout object at 0x7fbb8ccccc18>\n",
            "layer output:  [[-7.4866724e-01  9.3392380e-02 -5.0069254e-02 ...  5.7458574e-01\n",
            "   9.3238378e-01 -9.0126204e-01]\n",
            " [-2.7342588e-01  5.4087036e-04 -6.0464913e-01 ... -4.8929765e-03\n",
            "   5.4416317e-01 -5.1023030e-01]\n",
            " [-7.8089756e-01  4.0302327e-04 -6.5559953e-01 ...  3.0058439e-04\n",
            "   1.9843582e-02 -1.2420920e-01]\n",
            " [-7.1246141e-01  6.7042492e-02  3.5391289e-01 ... -4.2369565e-01\n",
            "   8.2437620e-02 -1.4031559e-03]\n",
            " [ 7.8546733e-02  1.1311619e-01  2.2944550e-01 ... -1.1994105e-02\n",
            "  -8.2746387e-01 -5.1694548e-01]]\n",
            "layer:  <tensorflow.python.keras.layers.core.Dense object at 0x7fbb8e562780>\n",
            "layer output:  [[-7.4866724e-01  9.3392380e-02 -5.0069254e-02 ...  5.7458574e-01\n",
            "   9.3238378e-01 -9.0126204e-01]\n",
            " [-2.7342588e-01  5.4087036e-04 -6.0464913e-01 ... -4.8929765e-03\n",
            "   5.4416317e-01 -5.1023030e-01]\n",
            " [-7.8089756e-01  4.0302327e-04 -6.5559953e-01 ...  3.0058439e-04\n",
            "   1.9843582e-02 -1.2420920e-01]\n",
            " [-7.1246141e-01  6.7042492e-02  3.5391289e-01 ... -4.2369565e-01\n",
            "   8.2437620e-02 -1.4031559e-03]\n",
            " [ 7.8546733e-02  1.1311619e-01  2.2944550e-01 ... -1.1994105e-02\n",
            "  -8.2746387e-01 -5.1694548e-01]]\n"
          ],
          "name": "stdout"
        }
      ]
    },
    {
      "cell_type": "code",
      "metadata": {
        "id": "6kFsZo9p66MS",
        "colab_type": "code",
        "colab": {
          "base_uri": "https://localhost:8080/",
          "height": 297
        },
        "outputId": "dfd1f0dc-75cc-4dce-d845-51bf47298293"
      },
      "source": [
        "# Plot train and validation curves\n",
        "fig = plt.figure()\n",
        "plt.subplot(2,1,1)\n",
        "plt.plot(model.history.history['accuracy'])\n",
        "plt.plot(model.history.history['val_accuracy'])\n",
        "plt.title('model accuracy')\n",
        "plt.ylabel('accuracy')\n",
        "plt.xlabel('epoch')\n",
        "plt.legend(['train', 'test'], loc='lower right')\n",
        "plt.subplot(2,1,2)\n",
        "plt.plot(model.history.history['loss'])\n",
        "plt.plot(model.history.history['val_loss'])\n",
        "plt.title('model loss')\n",
        "plt.ylabel('loss')\n",
        "plt.xlabel('epoch')\n",
        "plt.legend(['train', 'test'], loc='upper right')\n",
        "plt.tight_layout()"
      ],
      "execution_count": 30,
      "outputs": [
        {
          "output_type": "display_data",
          "data": {
            "image/png": "[encoded data removed]",
            "text/plain": [
              "<Figure size 432x288 with 2 Axes>"
            ]
          },
          "metadata": {
            "tags": []
          }
        }
      ]
    },
    {
      "cell_type": "code",
      "metadata": {
        "id": "7LGLhLo1FftW",
        "colab_type": "code",
        "colab": {}
      },
      "source": [
        ""
      ],
      "execution_count": 0,
      "outputs": []
    }
  ]
}